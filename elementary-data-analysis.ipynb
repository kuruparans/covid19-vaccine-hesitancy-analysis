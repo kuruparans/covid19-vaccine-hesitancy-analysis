{
 "metadata": {
  "language_info": {
   "codemirror_mode": {
    "name": "ipython",
    "version": 3
   },
   "file_extension": ".py",
   "mimetype": "text/x-python",
   "name": "python",
   "nbconvert_exporter": "python",
   "pygments_lexer": "ipython3",
   "version": "3.8.5"
  },
  "orig_nbformat": 2,
  "kernelspec": {
   "name": "python385jvsc74a57bd05aea97b5e7079df4d68890d4f84dd8e0ffa02e639b0a8d0b006dc5d8cc9ab7eb",
   "display_name": "Python 3.8.5 32-bit"
  },
  "metadata": {
   "interpreter": {
    "hash": "5aea97b5e7079df4d68890d4f84dd8e0ffa02e639b0a8d0b006dc5d8cc9ab7eb"
   }
  }
 },
 "nbformat": 4,
 "nbformat_minor": 2,
 "cells": [
  {
   "cell_type": "code",
   "execution_count": 2,
   "metadata": {},
   "outputs": [],
   "source": [
    "import pandas as pd"
   ]
  },
  {
   "cell_type": "code",
   "execution_count": 4,
   "metadata": {},
   "outputs": [
    {
     "output_type": "execute_result",
     "data": {
      "text/plain": [
       "      index  Unnamed: 0   fips                    county_name      state  \\\n",
       "0         0           0   1131         Wilcox County, Alabama    Alabama   \n",
       "1         1           1   1129     Washington County, Alabama    Alabama   \n",
       "2         2           2   1133        Winston County, Alabama    Alabama   \n",
       "3         3           3   1127         Walker County, Alabama    Alabama   \n",
       "4         4           4   1125     Tuscaloosa County, Alabama    Alabama   \n",
       "...     ...         ...    ...                            ...        ...   \n",
       "3106   3106        3106  55079    Milwaukee County, Wisconsin  Wisconsin   \n",
       "3107   3107        3107  55121  Trempealeau County, Wisconsin  Wisconsin   \n",
       "3108   3108        3108  56001         Albany County, Wyoming    Wyoming   \n",
       "3109   3109        3109  55067     Langlade County, Wisconsin  Wisconsin   \n",
       "3110   3110        3110  55099        Price County, Wisconsin  Wisconsin   \n",
       "\n",
       "      vaccine_hesitant  vaccine_hesitant_strong  social_vulnerability_index  \\\n",
       "0                 0.23                     0.11                        0.93   \n",
       "1                 0.23                     0.11                        0.73   \n",
       "2                 0.22                     0.11                        0.70   \n",
       "3                 0.23                     0.11                        0.75   \n",
       "4                 0.22                     0.10                        0.63   \n",
       "...                ...                      ...                         ...   \n",
       "3106              0.18                     0.11                        0.81   \n",
       "3107              0.18                     0.10                        0.28   \n",
       "3108              0.30                     0.16                        0.25   \n",
       "3109              0.17                     0.10                        0.35   \n",
       "3110              0.17                     0.10                        0.16   \n",
       "\n",
       "      ethnicity_hispanic  ethnicity_native  ...  education_bachelors_degree  \\\n",
       "0                 0.0053            0.0009  ...                       0.125   \n",
       "1                 0.0146            0.0731  ...                       0.127   \n",
       "2                 0.0315            0.0034  ...                       0.128   \n",
       "3                 0.0249            0.0015  ...                       0.113   \n",
       "4                 0.0372            0.0016  ...                       0.307   \n",
       "...                  ...               ...  ...                         ...   \n",
       "3106              0.1500            0.0047  ...                       0.310   \n",
       "3107              0.0840            0.0034  ...                       0.193   \n",
       "3108              0.0953            0.0091  ...                       0.518   \n",
       "3109              0.0197            0.0069  ...                       0.167   \n",
       "3110              0.0177            0.0096  ...                       0.165   \n",
       "\n",
       "      religion_total  religion_evangelical  religion_black_protestant  \\\n",
       "0         610.450000            294.938889                 257.670000   \n",
       "1         584.950000            420.398889                  92.200000   \n",
       "2         611.580000            551.340000                        NaN   \n",
       "3         653.508889            583.648889                  16.218889   \n",
       "4         535.888889            368.870000                  74.120000   \n",
       "...              ...                   ...                        ...   \n",
       "3106      463.758889            122.708889                  40.710000   \n",
       "3107      736.360000             58.578889                        NaN   \n",
       "3108      360.120000             67.250000                        NaN   \n",
       "3109      654.350000            199.030000                   2.950000   \n",
       "3110      577.298889            157.068889                        NaN   \n",
       "\n",
       "     religion_mainline_protestant  religion_catholic  religion_orthodox  \\\n",
       "0                       48.670000           1.030000                NaN   \n",
       "1                       70.640000           1.710000                NaN   \n",
       "2                       45.618889           9.108889                NaN   \n",
       "3                       38.078889           7.798889                NaN   \n",
       "4                       63.780000          19.160000                NaN   \n",
       "...                           ...                ...                ...   \n",
       "3106                    54.500000         210.138889               9.58   \n",
       "3107                   410.220000         267.208889                NaN   \n",
       "3108                    67.048889         127.468889                NaN   \n",
       "3109                    85.048889         358.610000                NaN   \n",
       "3110                   102.060000         317.958889                NaN   \n",
       "\n",
       "      religion_other  election_democrat_wins  election_republican_wins  \n",
       "0           8.140000                       4                         0  \n",
       "1                NaN                       0                         4  \n",
       "2           5.508889                       0                         4  \n",
       "3           7.758889                       0                         4  \n",
       "4           9.970000                       0                         4  \n",
       "...              ...                     ...                       ...  \n",
       "3106       26.128889                       4                         0  \n",
       "3107        0.350000                       2                         2  \n",
       "3108       98.348889                       2                         2  \n",
       "3109        8.710000                       1                         3  \n",
       "3110        0.210000                       2                         2  \n",
       "\n",
       "[3111 rows x 35 columns]"
      ],
      "text/html": "<div>\n<style scoped>\n    .dataframe tbody tr th:only-of-type {\n        vertical-align: middle;\n    }\n\n    .dataframe tbody tr th {\n        vertical-align: top;\n    }\n\n    .dataframe thead th {\n        text-align: right;\n    }\n</style>\n<table border=\"1\" class=\"dataframe\">\n  <thead>\n    <tr style=\"text-align: right;\">\n      <th></th>\n      <th>index</th>\n      <th>Unnamed: 0</th>\n      <th>fips</th>\n      <th>county_name</th>\n      <th>state</th>\n      <th>vaccine_hesitant</th>\n      <th>vaccine_hesitant_strong</th>\n      <th>social_vulnerability_index</th>\n      <th>ethnicity_hispanic</th>\n      <th>ethnicity_native</th>\n      <th>...</th>\n      <th>education_bachelors_degree</th>\n      <th>religion_total</th>\n      <th>religion_evangelical</th>\n      <th>religion_black_protestant</th>\n      <th>religion_mainline_protestant</th>\n      <th>religion_catholic</th>\n      <th>religion_orthodox</th>\n      <th>religion_other</th>\n      <th>election_democrat_wins</th>\n      <th>election_republican_wins</th>\n    </tr>\n  </thead>\n  <tbody>\n    <tr>\n      <th>0</th>\n      <td>0</td>\n      <td>0</td>\n      <td>1131</td>\n      <td>Wilcox County, Alabama</td>\n      <td>Alabama</td>\n      <td>0.23</td>\n      <td>0.11</td>\n      <td>0.93</td>\n      <td>0.0053</td>\n      <td>0.0009</td>\n      <td>...</td>\n      <td>0.125</td>\n      <td>610.450000</td>\n      <td>294.938889</td>\n      <td>257.670000</td>\n      <td>48.670000</td>\n      <td>1.030000</td>\n      <td>NaN</td>\n      <td>8.140000</td>\n      <td>4</td>\n      <td>0</td>\n    </tr>\n    <tr>\n      <th>1</th>\n      <td>1</td>\n      <td>1</td>\n      <td>1129</td>\n      <td>Washington County, Alabama</td>\n      <td>Alabama</td>\n      <td>0.23</td>\n      <td>0.11</td>\n      <td>0.73</td>\n      <td>0.0146</td>\n      <td>0.0731</td>\n      <td>...</td>\n      <td>0.127</td>\n      <td>584.950000</td>\n      <td>420.398889</td>\n      <td>92.200000</td>\n      <td>70.640000</td>\n      <td>1.710000</td>\n      <td>NaN</td>\n      <td>NaN</td>\n      <td>0</td>\n      <td>4</td>\n    </tr>\n    <tr>\n      <th>2</th>\n      <td>2</td>\n      <td>2</td>\n      <td>1133</td>\n      <td>Winston County, Alabama</td>\n      <td>Alabama</td>\n      <td>0.22</td>\n      <td>0.11</td>\n      <td>0.70</td>\n      <td>0.0315</td>\n      <td>0.0034</td>\n      <td>...</td>\n      <td>0.128</td>\n      <td>611.580000</td>\n      <td>551.340000</td>\n      <td>NaN</td>\n      <td>45.618889</td>\n      <td>9.108889</td>\n      <td>NaN</td>\n      <td>5.508889</td>\n      <td>0</td>\n      <td>4</td>\n    </tr>\n    <tr>\n      <th>3</th>\n      <td>3</td>\n      <td>3</td>\n      <td>1127</td>\n      <td>Walker County, Alabama</td>\n      <td>Alabama</td>\n      <td>0.23</td>\n      <td>0.11</td>\n      <td>0.75</td>\n      <td>0.0249</td>\n      <td>0.0015</td>\n      <td>...</td>\n      <td>0.113</td>\n      <td>653.508889</td>\n      <td>583.648889</td>\n      <td>16.218889</td>\n      <td>38.078889</td>\n      <td>7.798889</td>\n      <td>NaN</td>\n      <td>7.758889</td>\n      <td>0</td>\n      <td>4</td>\n    </tr>\n    <tr>\n      <th>4</th>\n      <td>4</td>\n      <td>4</td>\n      <td>1125</td>\n      <td>Tuscaloosa County, Alabama</td>\n      <td>Alabama</td>\n      <td>0.22</td>\n      <td>0.10</td>\n      <td>0.63</td>\n      <td>0.0372</td>\n      <td>0.0016</td>\n      <td>...</td>\n      <td>0.307</td>\n      <td>535.888889</td>\n      <td>368.870000</td>\n      <td>74.120000</td>\n      <td>63.780000</td>\n      <td>19.160000</td>\n      <td>NaN</td>\n      <td>9.970000</td>\n      <td>0</td>\n      <td>4</td>\n    </tr>\n    <tr>\n      <th>...</th>\n      <td>...</td>\n      <td>...</td>\n      <td>...</td>\n      <td>...</td>\n      <td>...</td>\n      <td>...</td>\n      <td>...</td>\n      <td>...</td>\n      <td>...</td>\n      <td>...</td>\n      <td>...</td>\n      <td>...</td>\n      <td>...</td>\n      <td>...</td>\n      <td>...</td>\n      <td>...</td>\n      <td>...</td>\n      <td>...</td>\n      <td>...</td>\n      <td>...</td>\n      <td>...</td>\n    </tr>\n    <tr>\n      <th>3106</th>\n      <td>3106</td>\n      <td>3106</td>\n      <td>55079</td>\n      <td>Milwaukee County, Wisconsin</td>\n      <td>Wisconsin</td>\n      <td>0.18</td>\n      <td>0.11</td>\n      <td>0.81</td>\n      <td>0.1500</td>\n      <td>0.0047</td>\n      <td>...</td>\n      <td>0.310</td>\n      <td>463.758889</td>\n      <td>122.708889</td>\n      <td>40.710000</td>\n      <td>54.500000</td>\n      <td>210.138889</td>\n      <td>9.58</td>\n      <td>26.128889</td>\n      <td>4</td>\n      <td>0</td>\n    </tr>\n    <tr>\n      <th>3107</th>\n      <td>3107</td>\n      <td>3107</td>\n      <td>55121</td>\n      <td>Trempealeau County, Wisconsin</td>\n      <td>Wisconsin</td>\n      <td>0.18</td>\n      <td>0.10</td>\n      <td>0.28</td>\n      <td>0.0840</td>\n      <td>0.0034</td>\n      <td>...</td>\n      <td>0.193</td>\n      <td>736.360000</td>\n      <td>58.578889</td>\n      <td>NaN</td>\n      <td>410.220000</td>\n      <td>267.208889</td>\n      <td>NaN</td>\n      <td>0.350000</td>\n      <td>2</td>\n      <td>2</td>\n    </tr>\n    <tr>\n      <th>3108</th>\n      <td>3108</td>\n      <td>3108</td>\n      <td>56001</td>\n      <td>Albany County, Wyoming</td>\n      <td>Wyoming</td>\n      <td>0.30</td>\n      <td>0.16</td>\n      <td>0.25</td>\n      <td>0.0953</td>\n      <td>0.0091</td>\n      <td>...</td>\n      <td>0.518</td>\n      <td>360.120000</td>\n      <td>67.250000</td>\n      <td>NaN</td>\n      <td>67.048889</td>\n      <td>127.468889</td>\n      <td>NaN</td>\n      <td>98.348889</td>\n      <td>2</td>\n      <td>2</td>\n    </tr>\n    <tr>\n      <th>3109</th>\n      <td>3109</td>\n      <td>3109</td>\n      <td>55067</td>\n      <td>Langlade County, Wisconsin</td>\n      <td>Wisconsin</td>\n      <td>0.17</td>\n      <td>0.10</td>\n      <td>0.35</td>\n      <td>0.0197</td>\n      <td>0.0069</td>\n      <td>...</td>\n      <td>0.167</td>\n      <td>654.350000</td>\n      <td>199.030000</td>\n      <td>2.950000</td>\n      <td>85.048889</td>\n      <td>358.610000</td>\n      <td>NaN</td>\n      <td>8.710000</td>\n      <td>1</td>\n      <td>3</td>\n    </tr>\n    <tr>\n      <th>3110</th>\n      <td>3110</td>\n      <td>3110</td>\n      <td>55099</td>\n      <td>Price County, Wisconsin</td>\n      <td>Wisconsin</td>\n      <td>0.17</td>\n      <td>0.10</td>\n      <td>0.16</td>\n      <td>0.0177</td>\n      <td>0.0096</td>\n      <td>...</td>\n      <td>0.165</td>\n      <td>577.298889</td>\n      <td>157.068889</td>\n      <td>NaN</td>\n      <td>102.060000</td>\n      <td>317.958889</td>\n      <td>NaN</td>\n      <td>0.210000</td>\n      <td>2</td>\n      <td>2</td>\n    </tr>\n  </tbody>\n</table>\n<p>3111 rows × 35 columns</p>\n</div>"
     },
     "metadata": {},
     "execution_count": 4
    }
   ],
   "source": [
    "df = pd.read_csv('datasets/clean/interim_clean_dataset_2021-06-05.csv')\n",
    "df"
   ]
  }
 ]
}