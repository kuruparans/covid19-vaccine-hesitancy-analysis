{
 "metadata": {
  "language_info": {
   "codemirror_mode": {
    "name": "ipython",
    "version": 3
   },
   "file_extension": ".py",
   "mimetype": "text/x-python",
   "name": "python",
   "nbconvert_exporter": "python",
   "pygments_lexer": "ipython3",
   "version": "3.8.5"
  },
  "orig_nbformat": 2,
  "kernelspec": {
   "name": "python385jvsc74a57bd05aea97b5e7079df4d68890d4f84dd8e0ffa02e639b0a8d0b006dc5d8cc9ab7eb",
   "display_name": "Python 3.8.5 32-bit"
  },
  "metadata": {
   "interpreter": {
    "hash": "5aea97b5e7079df4d68890d4f84dd8e0ffa02e639b0a8d0b006dc5d8cc9ab7eb"
   }
  }
 },
 "nbformat": 4,
 "nbformat_minor": 2,
 "cells": [
  {
   "cell_type": "code",
   "execution_count": 2,
   "metadata": {},
   "outputs": [],
   "source": [
    "import pandas as pd"
   ]
  },
  {
   "cell_type": "code",
   "execution_count": 3,
   "metadata": {},
   "outputs": [
    {
     "output_type": "execute_result",
     "data": {
      "text/plain": [
       "       fips                    county_name      state  vaccine_hesitant  \\\n",
       "0      1131         Wilcox County, Alabama    Alabama              0.23   \n",
       "1      1129     Washington County, Alabama    Alabama              0.23   \n",
       "2      1133        Winston County, Alabama    Alabama              0.22   \n",
       "3      1127         Walker County, Alabama    Alabama              0.23   \n",
       "4      1125     Tuscaloosa County, Alabama    Alabama              0.22   \n",
       "...     ...                            ...        ...               ...   \n",
       "3106  55079    Milwaukee County, Wisconsin  Wisconsin              0.18   \n",
       "3107  55121  Trempealeau County, Wisconsin  Wisconsin              0.18   \n",
       "3108  56001         Albany County, Wyoming    Wyoming              0.30   \n",
       "3109  55067     Langlade County, Wisconsin  Wisconsin              0.17   \n",
       "3110  55099        Price County, Wisconsin  Wisconsin              0.17   \n",
       "\n",
       "      vaccine_hesitant_strong  social_vulnerability_index  ethnicity_hispanic  \\\n",
       "0                        0.11                        0.93              0.0053   \n",
       "1                        0.11                        0.73              0.0146   \n",
       "2                        0.11                        0.70              0.0315   \n",
       "3                        0.11                        0.75              0.0249   \n",
       "4                        0.10                        0.63              0.0372   \n",
       "...                       ...                         ...                 ...   \n",
       "3106                     0.11                        0.81              0.1500   \n",
       "3107                     0.10                        0.28              0.0840   \n",
       "3108                     0.16                        0.25              0.0953   \n",
       "3109                     0.10                        0.35              0.0197   \n",
       "3110                     0.10                        0.16              0.0177   \n",
       "\n",
       "      ethnicity_native  ethnicity_asian  ethnicity_black  ...  \\\n",
       "0               0.0009           0.0003           0.6938  ...   \n",
       "1               0.0731           0.0025           0.2354  ...   \n",
       "2               0.0034           0.0016           0.0073  ...   \n",
       "3               0.0015           0.0049           0.0617  ...   \n",
       "4               0.0016           0.0161           0.3189  ...   \n",
       "...                ...              ...              ...  ...   \n",
       "3106            0.0047           0.0428           0.2606  ...   \n",
       "3107            0.0034           0.0043           0.0051  ...   \n",
       "3108            0.0091           0.0327           0.0150  ...   \n",
       "3109            0.0069           0.0022           0.0125  ...   \n",
       "3110            0.0096           0.0060           0.0083  ...   \n",
       "\n",
       "      education_bachelors_degree  religion_total religion_evangelical  \\\n",
       "0                          0.125      610.450000           294.938889   \n",
       "1                          0.127      584.950000           420.398889   \n",
       "2                          0.128      611.580000           551.340000   \n",
       "3                          0.113      653.508889           583.648889   \n",
       "4                          0.307      535.888889           368.870000   \n",
       "...                          ...             ...                  ...   \n",
       "3106                       0.310      463.758889           122.708889   \n",
       "3107                       0.193      736.360000            58.578889   \n",
       "3108                       0.518      360.120000            67.250000   \n",
       "3109                       0.167      654.350000           199.030000   \n",
       "3110                       0.165      577.298889           157.068889   \n",
       "\n",
       "      religion_black_protestant  religion_mainline_protestant  \\\n",
       "0                    257.670000                     48.670000   \n",
       "1                     92.200000                     70.640000   \n",
       "2                           NaN                     45.618889   \n",
       "3                     16.218889                     38.078889   \n",
       "4                     74.120000                     63.780000   \n",
       "...                         ...                           ...   \n",
       "3106                  40.710000                     54.500000   \n",
       "3107                        NaN                    410.220000   \n",
       "3108                        NaN                     67.048889   \n",
       "3109                   2.950000                     85.048889   \n",
       "3110                        NaN                    102.060000   \n",
       "\n",
       "      religion_catholic  religion_orthodox  religion_other  \\\n",
       "0              1.030000                NaN        8.140000   \n",
       "1              1.710000                NaN             NaN   \n",
       "2              9.108889                NaN        5.508889   \n",
       "3              7.798889                NaN        7.758889   \n",
       "4             19.160000                NaN        9.970000   \n",
       "...                 ...                ...             ...   \n",
       "3106         210.138889               9.58       26.128889   \n",
       "3107         267.208889                NaN        0.350000   \n",
       "3108         127.468889                NaN       98.348889   \n",
       "3109         358.610000                NaN        8.710000   \n",
       "3110         317.958889                NaN        0.210000   \n",
       "\n",
       "      election_democrat_wins  election_republican_wins  \n",
       "0                          4                         0  \n",
       "1                          0                         4  \n",
       "2                          0                         4  \n",
       "3                          0                         4  \n",
       "4                          0                         4  \n",
       "...                      ...                       ...  \n",
       "3106                       4                         0  \n",
       "3107                       2                         2  \n",
       "3108                       2                         2  \n",
       "3109                       1                         3  \n",
       "3110                       2                         2  \n",
       "\n",
       "[3111 rows x 33 columns]"
      ],
      "text/html": "<div>\n<style scoped>\n    .dataframe tbody tr th:only-of-type {\n        vertical-align: middle;\n    }\n\n    .dataframe tbody tr th {\n        vertical-align: top;\n    }\n\n    .dataframe thead th {\n        text-align: right;\n    }\n</style>\n<table border=\"1\" class=\"dataframe\">\n  <thead>\n    <tr style=\"text-align: right;\">\n      <th></th>\n      <th>fips</th>\n      <th>county_name</th>\n      <th>state</th>\n      <th>vaccine_hesitant</th>\n      <th>vaccine_hesitant_strong</th>\n      <th>social_vulnerability_index</th>\n      <th>ethnicity_hispanic</th>\n      <th>ethnicity_native</th>\n      <th>ethnicity_asian</th>\n      <th>ethnicity_black</th>\n      <th>...</th>\n      <th>education_bachelors_degree</th>\n      <th>religion_total</th>\n      <th>religion_evangelical</th>\n      <th>religion_black_protestant</th>\n      <th>religion_mainline_protestant</th>\n      <th>religion_catholic</th>\n      <th>religion_orthodox</th>\n      <th>religion_other</th>\n      <th>election_democrat_wins</th>\n      <th>election_republican_wins</th>\n    </tr>\n  </thead>\n  <tbody>\n    <tr>\n      <th>0</th>\n      <td>1131</td>\n      <td>Wilcox County, Alabama</td>\n      <td>Alabama</td>\n      <td>0.23</td>\n      <td>0.11</td>\n      <td>0.93</td>\n      <td>0.0053</td>\n      <td>0.0009</td>\n      <td>0.0003</td>\n      <td>0.6938</td>\n      <td>...</td>\n      <td>0.125</td>\n      <td>610.450000</td>\n      <td>294.938889</td>\n      <td>257.670000</td>\n      <td>48.670000</td>\n      <td>1.030000</td>\n      <td>NaN</td>\n      <td>8.140000</td>\n      <td>4</td>\n      <td>0</td>\n    </tr>\n    <tr>\n      <th>1</th>\n      <td>1129</td>\n      <td>Washington County, Alabama</td>\n      <td>Alabama</td>\n      <td>0.23</td>\n      <td>0.11</td>\n      <td>0.73</td>\n      <td>0.0146</td>\n      <td>0.0731</td>\n      <td>0.0025</td>\n      <td>0.2354</td>\n      <td>...</td>\n      <td>0.127</td>\n      <td>584.950000</td>\n      <td>420.398889</td>\n      <td>92.200000</td>\n      <td>70.640000</td>\n      <td>1.710000</td>\n      <td>NaN</td>\n      <td>NaN</td>\n      <td>0</td>\n      <td>4</td>\n    </tr>\n    <tr>\n      <th>2</th>\n      <td>1133</td>\n      <td>Winston County, Alabama</td>\n      <td>Alabama</td>\n      <td>0.22</td>\n      <td>0.11</td>\n      <td>0.70</td>\n      <td>0.0315</td>\n      <td>0.0034</td>\n      <td>0.0016</td>\n      <td>0.0073</td>\n      <td>...</td>\n      <td>0.128</td>\n      <td>611.580000</td>\n      <td>551.340000</td>\n      <td>NaN</td>\n      <td>45.618889</td>\n      <td>9.108889</td>\n      <td>NaN</td>\n      <td>5.508889</td>\n      <td>0</td>\n      <td>4</td>\n    </tr>\n    <tr>\n      <th>3</th>\n      <td>1127</td>\n      <td>Walker County, Alabama</td>\n      <td>Alabama</td>\n      <td>0.23</td>\n      <td>0.11</td>\n      <td>0.75</td>\n      <td>0.0249</td>\n      <td>0.0015</td>\n      <td>0.0049</td>\n      <td>0.0617</td>\n      <td>...</td>\n      <td>0.113</td>\n      <td>653.508889</td>\n      <td>583.648889</td>\n      <td>16.218889</td>\n      <td>38.078889</td>\n      <td>7.798889</td>\n      <td>NaN</td>\n      <td>7.758889</td>\n      <td>0</td>\n      <td>4</td>\n    </tr>\n    <tr>\n      <th>4</th>\n      <td>1125</td>\n      <td>Tuscaloosa County, Alabama</td>\n      <td>Alabama</td>\n      <td>0.22</td>\n      <td>0.10</td>\n      <td>0.63</td>\n      <td>0.0372</td>\n      <td>0.0016</td>\n      <td>0.0161</td>\n      <td>0.3189</td>\n      <td>...</td>\n      <td>0.307</td>\n      <td>535.888889</td>\n      <td>368.870000</td>\n      <td>74.120000</td>\n      <td>63.780000</td>\n      <td>19.160000</td>\n      <td>NaN</td>\n      <td>9.970000</td>\n      <td>0</td>\n      <td>4</td>\n    </tr>\n    <tr>\n      <th>...</th>\n      <td>...</td>\n      <td>...</td>\n      <td>...</td>\n      <td>...</td>\n      <td>...</td>\n      <td>...</td>\n      <td>...</td>\n      <td>...</td>\n      <td>...</td>\n      <td>...</td>\n      <td>...</td>\n      <td>...</td>\n      <td>...</td>\n      <td>...</td>\n      <td>...</td>\n      <td>...</td>\n      <td>...</td>\n      <td>...</td>\n      <td>...</td>\n      <td>...</td>\n      <td>...</td>\n    </tr>\n    <tr>\n      <th>3106</th>\n      <td>55079</td>\n      <td>Milwaukee County, Wisconsin</td>\n      <td>Wisconsin</td>\n      <td>0.18</td>\n      <td>0.11</td>\n      <td>0.81</td>\n      <td>0.1500</td>\n      <td>0.0047</td>\n      <td>0.0428</td>\n      <td>0.2606</td>\n      <td>...</td>\n      <td>0.310</td>\n      <td>463.758889</td>\n      <td>122.708889</td>\n      <td>40.710000</td>\n      <td>54.500000</td>\n      <td>210.138889</td>\n      <td>9.58</td>\n      <td>26.128889</td>\n      <td>4</td>\n      <td>0</td>\n    </tr>\n    <tr>\n      <th>3107</th>\n      <td>55121</td>\n      <td>Trempealeau County, Wisconsin</td>\n      <td>Wisconsin</td>\n      <td>0.18</td>\n      <td>0.10</td>\n      <td>0.28</td>\n      <td>0.0840</td>\n      <td>0.0034</td>\n      <td>0.0043</td>\n      <td>0.0051</td>\n      <td>...</td>\n      <td>0.193</td>\n      <td>736.360000</td>\n      <td>58.578889</td>\n      <td>NaN</td>\n      <td>410.220000</td>\n      <td>267.208889</td>\n      <td>NaN</td>\n      <td>0.350000</td>\n      <td>2</td>\n      <td>2</td>\n    </tr>\n    <tr>\n      <th>3108</th>\n      <td>56001</td>\n      <td>Albany County, Wyoming</td>\n      <td>Wyoming</td>\n      <td>0.30</td>\n      <td>0.16</td>\n      <td>0.25</td>\n      <td>0.0953</td>\n      <td>0.0091</td>\n      <td>0.0327</td>\n      <td>0.0150</td>\n      <td>...</td>\n      <td>0.518</td>\n      <td>360.120000</td>\n      <td>67.250000</td>\n      <td>NaN</td>\n      <td>67.048889</td>\n      <td>127.468889</td>\n      <td>NaN</td>\n      <td>98.348889</td>\n      <td>2</td>\n      <td>2</td>\n    </tr>\n    <tr>\n      <th>3109</th>\n      <td>55067</td>\n      <td>Langlade County, Wisconsin</td>\n      <td>Wisconsin</td>\n      <td>0.17</td>\n      <td>0.10</td>\n      <td>0.35</td>\n      <td>0.0197</td>\n      <td>0.0069</td>\n      <td>0.0022</td>\n      <td>0.0125</td>\n      <td>...</td>\n      <td>0.167</td>\n      <td>654.350000</td>\n      <td>199.030000</td>\n      <td>2.950000</td>\n      <td>85.048889</td>\n      <td>358.610000</td>\n      <td>NaN</td>\n      <td>8.710000</td>\n      <td>1</td>\n      <td>3</td>\n    </tr>\n    <tr>\n      <th>3110</th>\n      <td>55099</td>\n      <td>Price County, Wisconsin</td>\n      <td>Wisconsin</td>\n      <td>0.17</td>\n      <td>0.10</td>\n      <td>0.16</td>\n      <td>0.0177</td>\n      <td>0.0096</td>\n      <td>0.0060</td>\n      <td>0.0083</td>\n      <td>...</td>\n      <td>0.165</td>\n      <td>577.298889</td>\n      <td>157.068889</td>\n      <td>NaN</td>\n      <td>102.060000</td>\n      <td>317.958889</td>\n      <td>NaN</td>\n      <td>0.210000</td>\n      <td>2</td>\n      <td>2</td>\n    </tr>\n  </tbody>\n</table>\n<p>3111 rows × 33 columns</p>\n</div>"
     },
     "metadata": {},
     "execution_count": 3
    }
   ],
   "source": [
    "df = pd.read_csv('datasets/clean/interim_clean_dataset_2021-06-05.csv')\n",
    "df"
   ]
  },
  {
   "cell_type": "code",
   "execution_count": null,
   "metadata": {},
   "outputs": [],
   "source": [
    "# TODO: Bar charts (univariate) to explore vaccine hesitancy cluster groups along demographic data\n",
    "# TODO: Scatterplots and heatmaps to visualize correlations between vaccine hesitancy and demographic variables\n",
    "# TODO: Choropleth maps to visualize geographical county level data of vaccine hesitancy and demographic variables.\n",
    "# TODO: Box plot graphs on vaccine hesitancy rates to look at distribution and find out cut off values for groupings"
   ]
  }
 ]
}