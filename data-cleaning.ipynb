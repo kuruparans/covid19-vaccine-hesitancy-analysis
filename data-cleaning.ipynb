{
 "metadata": {
  "language_info": {
   "codemirror_mode": {
    "name": "ipython",
    "version": 3
   },
   "file_extension": ".py",
   "mimetype": "text/x-python",
   "name": "python",
   "nbconvert_exporter": "python",
   "pygments_lexer": "ipython3",
   "version": "3.9.6"
  },
  "orig_nbformat": 2,
  "kernelspec": {
   "name": "python3",
   "display_name": "Python 3.9.6 64-bit"
  },
  "metadata": {
   "interpreter": {
    "hash": "5aea97b5e7079df4d68890d4f84dd8e0ffa02e639b0a8d0b006dc5d8cc9ab7eb"
   }
  },
  "interpreter": {
   "hash": "9b846ca81b47b1292d024d4f17ec94299106cf2be89def8bf31186937746892c"
  }
 },
 "nbformat": 4,
 "nbformat_minor": 2,
 "cells": [
  {
   "cell_type": "code",
   "execution_count": 60,
   "metadata": {},
   "outputs": [],
   "source": [
    "import pandas as pd"
   ]
  },
  {
   "source": [
    "## Approach\n",
    "We want to clean and combine all of our various datasets and export it as one CSV. This will primarily involve dropping columns that we aren't interested in and merging onto a central Pandas DataFrame. After some exploratory analysis, we will determine what rows will need to be dropped or interpolated. Our primary key for all these datasets that we will be merging on after cleaning is the FIPS code, a unique integer value representing each county/state."
   ],
   "cell_type": "markdown",
   "metadata": {}
  },
  {
   "source": [
    "### County Info\n",
    "The vaccine hesitancy dataset has values for multiple segments (ethnicity, social vulnerability, vaccine hesitancy), which we will split out into separate variables and look at each. Our primary index of county codes is given by Federal Information Processing Standards (FIPS), which we extract with useful identifiers of the county (its name and state). For additional avenues for data exploration, we add in the census defined region and division values for each county."
   ],
   "cell_type": "markdown",
   "metadata": {}
  },
  {
   "cell_type": "code",
   "execution_count": 61,
   "metadata": {},
   "outputs": [
    {
     "output_type": "execute_result",
     "data": {
      "text/plain": [
       "       fips                     county_name      state\n",
       "0      1131          Wilcox County, Alabama    Alabama\n",
       "1      1129      Washington County, Alabama    Alabama\n",
       "2      1133         Winston County, Alabama    Alabama\n",
       "3      1127          Walker County, Alabama    Alabama\n",
       "4      2013  Aleutians East Borough, Alaska     Alaska\n",
       "...     ...                             ...        ...\n",
       "3137  55079     Milwaukee County, Wisconsin  Wisconsin\n",
       "3138  55121   Trempealeau County, Wisconsin  Wisconsin\n",
       "3139  56001          Albany County, Wyoming    Wyoming\n",
       "3140  55067      Langlade County, Wisconsin  Wisconsin\n",
       "3141  55099         Price County, Wisconsin  Wisconsin\n",
       "\n",
       "[3142 rows x 3 columns]"
      ],
      "text/html": "<div>\n<style scoped>\n    .dataframe tbody tr th:only-of-type {\n        vertical-align: middle;\n    }\n\n    .dataframe tbody tr th {\n        vertical-align: top;\n    }\n\n    .dataframe thead th {\n        text-align: right;\n    }\n</style>\n<table border=\"1\" class=\"dataframe\">\n  <thead>\n    <tr style=\"text-align: right;\">\n      <th></th>\n      <th>fips</th>\n      <th>county_name</th>\n      <th>state</th>\n    </tr>\n  </thead>\n  <tbody>\n    <tr>\n      <th>0</th>\n      <td>1131</td>\n      <td>Wilcox County, Alabama</td>\n      <td>Alabama</td>\n    </tr>\n    <tr>\n      <th>1</th>\n      <td>1129</td>\n      <td>Washington County, Alabama</td>\n      <td>Alabama</td>\n    </tr>\n    <tr>\n      <th>2</th>\n      <td>1133</td>\n      <td>Winston County, Alabama</td>\n      <td>Alabama</td>\n    </tr>\n    <tr>\n      <th>3</th>\n      <td>1127</td>\n      <td>Walker County, Alabama</td>\n      <td>Alabama</td>\n    </tr>\n    <tr>\n      <th>4</th>\n      <td>2013</td>\n      <td>Aleutians East Borough, Alaska</td>\n      <td>Alaska</td>\n    </tr>\n    <tr>\n      <th>...</th>\n      <td>...</td>\n      <td>...</td>\n      <td>...</td>\n    </tr>\n    <tr>\n      <th>3137</th>\n      <td>55079</td>\n      <td>Milwaukee County, Wisconsin</td>\n      <td>Wisconsin</td>\n    </tr>\n    <tr>\n      <th>3138</th>\n      <td>55121</td>\n      <td>Trempealeau County, Wisconsin</td>\n      <td>Wisconsin</td>\n    </tr>\n    <tr>\n      <th>3139</th>\n      <td>56001</td>\n      <td>Albany County, Wyoming</td>\n      <td>Wyoming</td>\n    </tr>\n    <tr>\n      <th>3140</th>\n      <td>55067</td>\n      <td>Langlade County, Wisconsin</td>\n      <td>Wisconsin</td>\n    </tr>\n    <tr>\n      <th>3141</th>\n      <td>55099</td>\n      <td>Price County, Wisconsin</td>\n      <td>Wisconsin</td>\n    </tr>\n  </tbody>\n</table>\n<p>3142 rows × 3 columns</p>\n</div>"
     },
     "metadata": {},
     "execution_count": 61
    }
   ],
   "source": [
    "vaccine_hesitancy_data = pd.read_csv('datasets/raw/Vaccine_Hesitancy_for_COVID-19__County_and_local_estimates.csv', encoding='utf-8').rename(columns = {'FIPS Code':'fips'})\n",
    "county = vaccine_hesitancy_data[['fips', 'County Name', 'State']].rename(columns={'County Name': 'county_name', 'State': 'state'})\n",
    "county['state'] = county['state'].str.title()\n",
    "county"
   ]
  },
  {
   "cell_type": "code",
   "execution_count": 62,
   "metadata": {},
   "outputs": [
    {
     "output_type": "execute_result",
     "data": {
      "text/plain": [
       "       fips                     county_name      state            division  \\\n",
       "0      1131          Wilcox County, Alabama    Alabama  East South Central   \n",
       "1      1129      Washington County, Alabama    Alabama  East South Central   \n",
       "2      1133         Winston County, Alabama    Alabama  East South Central   \n",
       "3      1127          Walker County, Alabama    Alabama  East South Central   \n",
       "4      2013  Aleutians East Borough, Alaska     Alaska             Pacific   \n",
       "...     ...                             ...        ...                 ...   \n",
       "3137  55079     Milwaukee County, Wisconsin  Wisconsin  East North Central   \n",
       "3138  55121   Trempealeau County, Wisconsin  Wisconsin  East North Central   \n",
       "3139  56001          Albany County, Wyoming    Wyoming            Mountain   \n",
       "3140  55067      Langlade County, Wisconsin  Wisconsin  East North Central   \n",
       "3141  55099         Price County, Wisconsin  Wisconsin  East North Central   \n",
       "\n",
       "       region  \n",
       "0       South  \n",
       "1       South  \n",
       "2       South  \n",
       "3       South  \n",
       "4        West  \n",
       "...       ...  \n",
       "3137  Midwest  \n",
       "3138  Midwest  \n",
       "3139     West  \n",
       "3140  Midwest  \n",
       "3141  Midwest  \n",
       "\n",
       "[3142 rows x 5 columns]"
      ],
      "text/html": "<div>\n<style scoped>\n    .dataframe tbody tr th:only-of-type {\n        vertical-align: middle;\n    }\n\n    .dataframe tbody tr th {\n        vertical-align: top;\n    }\n\n    .dataframe thead th {\n        text-align: right;\n    }\n</style>\n<table border=\"1\" class=\"dataframe\">\n  <thead>\n    <tr style=\"text-align: right;\">\n      <th></th>\n      <th>fips</th>\n      <th>county_name</th>\n      <th>state</th>\n      <th>division</th>\n      <th>region</th>\n    </tr>\n  </thead>\n  <tbody>\n    <tr>\n      <th>0</th>\n      <td>1131</td>\n      <td>Wilcox County, Alabama</td>\n      <td>Alabama</td>\n      <td>East South Central</td>\n      <td>South</td>\n    </tr>\n    <tr>\n      <th>1</th>\n      <td>1129</td>\n      <td>Washington County, Alabama</td>\n      <td>Alabama</td>\n      <td>East South Central</td>\n      <td>South</td>\n    </tr>\n    <tr>\n      <th>2</th>\n      <td>1133</td>\n      <td>Winston County, Alabama</td>\n      <td>Alabama</td>\n      <td>East South Central</td>\n      <td>South</td>\n    </tr>\n    <tr>\n      <th>3</th>\n      <td>1127</td>\n      <td>Walker County, Alabama</td>\n      <td>Alabama</td>\n      <td>East South Central</td>\n      <td>South</td>\n    </tr>\n    <tr>\n      <th>4</th>\n      <td>2013</td>\n      <td>Aleutians East Borough, Alaska</td>\n      <td>Alaska</td>\n      <td>Pacific</td>\n      <td>West</td>\n    </tr>\n    <tr>\n      <th>...</th>\n      <td>...</td>\n      <td>...</td>\n      <td>...</td>\n      <td>...</td>\n      <td>...</td>\n    </tr>\n    <tr>\n      <th>3137</th>\n      <td>55079</td>\n      <td>Milwaukee County, Wisconsin</td>\n      <td>Wisconsin</td>\n      <td>East North Central</td>\n      <td>Midwest</td>\n    </tr>\n    <tr>\n      <th>3138</th>\n      <td>55121</td>\n      <td>Trempealeau County, Wisconsin</td>\n      <td>Wisconsin</td>\n      <td>East North Central</td>\n      <td>Midwest</td>\n    </tr>\n    <tr>\n      <th>3139</th>\n      <td>56001</td>\n      <td>Albany County, Wyoming</td>\n      <td>Wyoming</td>\n      <td>Mountain</td>\n      <td>West</td>\n    </tr>\n    <tr>\n      <th>3140</th>\n      <td>55067</td>\n      <td>Langlade County, Wisconsin</td>\n      <td>Wisconsin</td>\n      <td>East North Central</td>\n      <td>Midwest</td>\n    </tr>\n    <tr>\n      <th>3141</th>\n      <td>55099</td>\n      <td>Price County, Wisconsin</td>\n      <td>Wisconsin</td>\n      <td>East North Central</td>\n      <td>Midwest</td>\n    </tr>\n  </tbody>\n</table>\n<p>3142 rows × 5 columns</p>\n</div>"
     },
     "metadata": {},
     "execution_count": 62
    }
   ],
   "source": [
    "regions = [\n",
    "    (['Connecticut', 'Maine', 'Massachusetts', 'New Hampshire', 'Rhode Island', 'Vermont'], 'New England', 'Northeast'), \n",
    "    (['New Jersey', 'New York', 'Pennsylvania'], 'Midatlantic', 'Northeast'), \n",
    "    (['Indiana', 'Illinois', 'Michigan', 'Ohio', 'Wisconsin'], 'East North Central', 'Midwest'), \n",
    "    (['Iowa', 'Nebraska', 'Kansas', 'North Dakota', 'Minnesota', 'South Dakota', 'Missouri'], 'West North Central', 'Midwest'), \n",
    "    (['Delaware', 'District Of Columbia', 'Florida', 'Georgia', 'Maryland', 'North Carolina', 'South Carolina', 'Virginia', 'West Virginia'], 'South Atlantic', 'South'), \n",
    "    (['Alabama', 'Kentucky', 'Mississippi', 'Tennessee'], 'East South Central', 'South'), \n",
    "    (['Arkansas', 'Louisiana', 'Oklahoma', 'Texas'], 'West South Central', 'South'), \n",
    "    (['Arizona', 'Colorado', 'Idaho', 'New Mexico', 'Montana', 'Utah', 'Nevada', 'Wyoming'], 'Mountain', 'West'), \n",
    "    (['Alaska', 'California', 'Hawaii', 'Oregon', 'Washington'], 'Pacific', 'West')]\n",
    "\n",
    "for (states, division, region) in regions:\n",
    "    county.loc[county['state'].isin(states), ['division', 'region']] = [division, region]\n",
    "county"
   ]
  },
  {
   "source": [
    "### Ethnicity \n",
    "Percentage of ethnicity for each county are given. For readability and simplicity, we rename them with the most abundant ethnic group as primary and assume non-Hispanic for all of the non-Hispanic groups."
   ],
   "cell_type": "markdown",
   "metadata": {}
  },
  {
   "cell_type": "code",
   "execution_count": 63,
   "metadata": {},
   "outputs": [
    {
     "output_type": "execute_result",
     "data": {
      "text/plain": [
       "       fips  ethnicity_hispanic  ethnicity_native  ethnicity_asian  \\\n",
       "0      1131              0.0053            0.0009           0.0003   \n",
       "1      1129              0.0146            0.0731           0.0025   \n",
       "2      1133              0.0315            0.0034           0.0016   \n",
       "3      1127              0.0249            0.0015           0.0049   \n",
       "4      2013              0.0901            0.4588           0.1968   \n",
       "...     ...                 ...               ...              ...   \n",
       "3137  55079              0.1500            0.0047           0.0428   \n",
       "3138  55121              0.0840            0.0034           0.0043   \n",
       "3139  56001              0.0953            0.0091           0.0327   \n",
       "3140  55067              0.0197            0.0069           0.0022   \n",
       "3141  55099              0.0177            0.0096           0.0060   \n",
       "\n",
       "      ethnicity_black  ethnicity_hawaiian  ethnicity_white  \n",
       "0              0.6938              0.0000           0.2684  \n",
       "1              0.2354              0.0000           0.6495  \n",
       "2              0.0073              0.0005           0.9370  \n",
       "3              0.0617              0.0000           0.8895  \n",
       "4              0.0322              0.0100           0.1321  \n",
       "...               ...                 ...              ...  \n",
       "3137           0.2606              0.0002           0.5124  \n",
       "3138           0.0051              0.0000           0.8953  \n",
       "3139           0.0150              0.0003           0.8248  \n",
       "3140           0.0125              0.0002           0.9383  \n",
       "3141           0.0083              0.0085           0.9407  \n",
       "\n",
       "[3142 rows x 7 columns]"
      ],
      "text/html": "<div>\n<style scoped>\n    .dataframe tbody tr th:only-of-type {\n        vertical-align: middle;\n    }\n\n    .dataframe tbody tr th {\n        vertical-align: top;\n    }\n\n    .dataframe thead th {\n        text-align: right;\n    }\n</style>\n<table border=\"1\" class=\"dataframe\">\n  <thead>\n    <tr style=\"text-align: right;\">\n      <th></th>\n      <th>fips</th>\n      <th>ethnicity_hispanic</th>\n      <th>ethnicity_native</th>\n      <th>ethnicity_asian</th>\n      <th>ethnicity_black</th>\n      <th>ethnicity_hawaiian</th>\n      <th>ethnicity_white</th>\n    </tr>\n  </thead>\n  <tbody>\n    <tr>\n      <th>0</th>\n      <td>1131</td>\n      <td>0.0053</td>\n      <td>0.0009</td>\n      <td>0.0003</td>\n      <td>0.6938</td>\n      <td>0.0000</td>\n      <td>0.2684</td>\n    </tr>\n    <tr>\n      <th>1</th>\n      <td>1129</td>\n      <td>0.0146</td>\n      <td>0.0731</td>\n      <td>0.0025</td>\n      <td>0.2354</td>\n      <td>0.0000</td>\n      <td>0.6495</td>\n    </tr>\n    <tr>\n      <th>2</th>\n      <td>1133</td>\n      <td>0.0315</td>\n      <td>0.0034</td>\n      <td>0.0016</td>\n      <td>0.0073</td>\n      <td>0.0005</td>\n      <td>0.9370</td>\n    </tr>\n    <tr>\n      <th>3</th>\n      <td>1127</td>\n      <td>0.0249</td>\n      <td>0.0015</td>\n      <td>0.0049</td>\n      <td>0.0617</td>\n      <td>0.0000</td>\n      <td>0.8895</td>\n    </tr>\n    <tr>\n      <th>4</th>\n      <td>2013</td>\n      <td>0.0901</td>\n      <td>0.4588</td>\n      <td>0.1968</td>\n      <td>0.0322</td>\n      <td>0.0100</td>\n      <td>0.1321</td>\n    </tr>\n    <tr>\n      <th>...</th>\n      <td>...</td>\n      <td>...</td>\n      <td>...</td>\n      <td>...</td>\n      <td>...</td>\n      <td>...</td>\n      <td>...</td>\n    </tr>\n    <tr>\n      <th>3137</th>\n      <td>55079</td>\n      <td>0.1500</td>\n      <td>0.0047</td>\n      <td>0.0428</td>\n      <td>0.2606</td>\n      <td>0.0002</td>\n      <td>0.5124</td>\n    </tr>\n    <tr>\n      <th>3138</th>\n      <td>55121</td>\n      <td>0.0840</td>\n      <td>0.0034</td>\n      <td>0.0043</td>\n      <td>0.0051</td>\n      <td>0.0000</td>\n      <td>0.8953</td>\n    </tr>\n    <tr>\n      <th>3139</th>\n      <td>56001</td>\n      <td>0.0953</td>\n      <td>0.0091</td>\n      <td>0.0327</td>\n      <td>0.0150</td>\n      <td>0.0003</td>\n      <td>0.8248</td>\n    </tr>\n    <tr>\n      <th>3140</th>\n      <td>55067</td>\n      <td>0.0197</td>\n      <td>0.0069</td>\n      <td>0.0022</td>\n      <td>0.0125</td>\n      <td>0.0002</td>\n      <td>0.9383</td>\n    </tr>\n    <tr>\n      <th>3141</th>\n      <td>55099</td>\n      <td>0.0177</td>\n      <td>0.0096</td>\n      <td>0.0060</td>\n      <td>0.0083</td>\n      <td>0.0085</td>\n      <td>0.9407</td>\n    </tr>\n  </tbody>\n</table>\n<p>3142 rows × 7 columns</p>\n</div>"
     },
     "metadata": {},
     "execution_count": 63
    }
   ],
   "source": [
    "ethnicity = vaccine_hesitancy_data[['fips', 'Percent Hispanic', 'Percent non-Hispanic American Indian/Alaska Native', 'Percent non-Hispanic Asian', 'Percent non-Hispanic Black', 'Percent non-Hispanic Native Hawaiian/Pacific Islander', 'Percent non-Hispanic White']].rename(columns = {'Percent Hispanic': 'ethnicity_hispanic', 'Percent non-Hispanic American Indian/Alaska Native': 'ethnicity_native', 'Percent non-Hispanic Asian': 'ethnicity_asian', 'Percent non-Hispanic Black': 'ethnicity_black', 'Percent non-Hispanic Native Hawaiian/Pacific Islander': 'ethnicity_hawaiian', 'Percent non-Hispanic White': 'ethnicity_white'})\n",
    "ethnicity"
   ]
  },
  {
   "source": [
    "### Social Vulnerability"
   ],
   "cell_type": "markdown",
   "metadata": {}
  },
  {
   "cell_type": "code",
   "execution_count": 64,
   "metadata": {},
   "outputs": [
    {
     "output_type": "execute_result",
     "data": {
      "text/plain": [
       "       fips  social_vulnerability_index\n",
       "0      1131                        0.93\n",
       "1      1129                        0.73\n",
       "2      1133                        0.70\n",
       "3      1127                        0.75\n",
       "4      2013                        0.58\n",
       "...     ...                         ...\n",
       "3137  55079                        0.81\n",
       "3138  55121                        0.28\n",
       "3139  56001                        0.25\n",
       "3140  55067                        0.35\n",
       "3141  55099                        0.16\n",
       "\n",
       "[3142 rows x 2 columns]"
      ],
      "text/html": "<div>\n<style scoped>\n    .dataframe tbody tr th:only-of-type {\n        vertical-align: middle;\n    }\n\n    .dataframe tbody tr th {\n        vertical-align: top;\n    }\n\n    .dataframe thead th {\n        text-align: right;\n    }\n</style>\n<table border=\"1\" class=\"dataframe\">\n  <thead>\n    <tr style=\"text-align: right;\">\n      <th></th>\n      <th>fips</th>\n      <th>social_vulnerability_index</th>\n    </tr>\n  </thead>\n  <tbody>\n    <tr>\n      <th>0</th>\n      <td>1131</td>\n      <td>0.93</td>\n    </tr>\n    <tr>\n      <th>1</th>\n      <td>1129</td>\n      <td>0.73</td>\n    </tr>\n    <tr>\n      <th>2</th>\n      <td>1133</td>\n      <td>0.70</td>\n    </tr>\n    <tr>\n      <th>3</th>\n      <td>1127</td>\n      <td>0.75</td>\n    </tr>\n    <tr>\n      <th>4</th>\n      <td>2013</td>\n      <td>0.58</td>\n    </tr>\n    <tr>\n      <th>...</th>\n      <td>...</td>\n      <td>...</td>\n    </tr>\n    <tr>\n      <th>3137</th>\n      <td>55079</td>\n      <td>0.81</td>\n    </tr>\n    <tr>\n      <th>3138</th>\n      <td>55121</td>\n      <td>0.28</td>\n    </tr>\n    <tr>\n      <th>3139</th>\n      <td>56001</td>\n      <td>0.25</td>\n    </tr>\n    <tr>\n      <th>3140</th>\n      <td>55067</td>\n      <td>0.35</td>\n    </tr>\n    <tr>\n      <th>3141</th>\n      <td>55099</td>\n      <td>0.16</td>\n    </tr>\n  </tbody>\n</table>\n<p>3142 rows × 2 columns</p>\n</div>"
     },
     "metadata": {},
     "execution_count": 64
    }
   ],
   "source": [
    "social_vulnerability_index = vaccine_hesitancy_data[['fips', 'Social Vulnerability Index (SVI)']].rename(columns= {'Social Vulnerability Index (SVI)': 'social_vulnerability_index'})\n",
    "social_vulnerability_index"
   ]
  },
  {
   "source": [
    "### Vaccine Hesitancy"
   ],
   "cell_type": "markdown",
   "metadata": {}
  },
  {
   "cell_type": "code",
   "execution_count": 65,
   "metadata": {},
   "outputs": [
    {
     "output_type": "execute_result",
     "data": {
      "text/plain": [
       "       fips  vaccine_hesitant  vaccine_hesitant_strong  \\\n",
       "0      1131              0.23                     0.11   \n",
       "1      1129              0.23                     0.11   \n",
       "2      1133              0.22                     0.11   \n",
       "3      1127              0.23                     0.11   \n",
       "4      2013              0.26                     0.12   \n",
       "...     ...               ...                      ...   \n",
       "3137  55079              0.18                     0.11   \n",
       "3138  55121              0.18                     0.10   \n",
       "3139  56001              0.30                     0.16   \n",
       "3140  55067              0.17                     0.10   \n",
       "3141  55099              0.17                     0.10   \n",
       "\n",
       "     vaccine_hesitant_category  \n",
       "0                       Medium  \n",
       "1                       Medium  \n",
       "2                       Medium  \n",
       "3                       Medium  \n",
       "4                         High  \n",
       "...                        ...  \n",
       "3137                    Medium  \n",
       "3138                    Medium  \n",
       "3139                      High  \n",
       "3140                    Medium  \n",
       "3141                    Medium  \n",
       "\n",
       "[3142 rows x 4 columns]"
      ],
      "text/html": "<div>\n<style scoped>\n    .dataframe tbody tr th:only-of-type {\n        vertical-align: middle;\n    }\n\n    .dataframe tbody tr th {\n        vertical-align: top;\n    }\n\n    .dataframe thead th {\n        text-align: right;\n    }\n</style>\n<table border=\"1\" class=\"dataframe\">\n  <thead>\n    <tr style=\"text-align: right;\">\n      <th></th>\n      <th>fips</th>\n      <th>vaccine_hesitant</th>\n      <th>vaccine_hesitant_strong</th>\n      <th>vaccine_hesitant_category</th>\n    </tr>\n  </thead>\n  <tbody>\n    <tr>\n      <th>0</th>\n      <td>1131</td>\n      <td>0.23</td>\n      <td>0.11</td>\n      <td>Medium</td>\n    </tr>\n    <tr>\n      <th>1</th>\n      <td>1129</td>\n      <td>0.23</td>\n      <td>0.11</td>\n      <td>Medium</td>\n    </tr>\n    <tr>\n      <th>2</th>\n      <td>1133</td>\n      <td>0.22</td>\n      <td>0.11</td>\n      <td>Medium</td>\n    </tr>\n    <tr>\n      <th>3</th>\n      <td>1127</td>\n      <td>0.23</td>\n      <td>0.11</td>\n      <td>Medium</td>\n    </tr>\n    <tr>\n      <th>4</th>\n      <td>2013</td>\n      <td>0.26</td>\n      <td>0.12</td>\n      <td>High</td>\n    </tr>\n    <tr>\n      <th>...</th>\n      <td>...</td>\n      <td>...</td>\n      <td>...</td>\n      <td>...</td>\n    </tr>\n    <tr>\n      <th>3137</th>\n      <td>55079</td>\n      <td>0.18</td>\n      <td>0.11</td>\n      <td>Medium</td>\n    </tr>\n    <tr>\n      <th>3138</th>\n      <td>55121</td>\n      <td>0.18</td>\n      <td>0.10</td>\n      <td>Medium</td>\n    </tr>\n    <tr>\n      <th>3139</th>\n      <td>56001</td>\n      <td>0.30</td>\n      <td>0.16</td>\n      <td>High</td>\n    </tr>\n    <tr>\n      <th>3140</th>\n      <td>55067</td>\n      <td>0.17</td>\n      <td>0.10</td>\n      <td>Medium</td>\n    </tr>\n    <tr>\n      <th>3141</th>\n      <td>55099</td>\n      <td>0.17</td>\n      <td>0.10</td>\n      <td>Medium</td>\n    </tr>\n  </tbody>\n</table>\n<p>3142 rows × 4 columns</p>\n</div>"
     },
     "metadata": {},
     "execution_count": 65
    }
   ],
   "source": [
    "vaccine_hesitancy = vaccine_hesitancy_data[['fips', 'Estimated hesitant', 'Estimated strongly hesitant']].rename(columns = {'Estimated hesitant': 'vaccine_hesitant', 'Estimated strongly hesitant': 'vaccine_hesitant_strong'})\n",
    "vaccine_hesitant_mean, vaccine_hesitant_std = vaccine_hesitancy['vaccine_hesitant'].mean(), vaccine_hesitancy['vaccine_hesitant'].std()\n",
    "vaccine_hesitancy.loc[vaccine_hesitancy['vaccine_hesitant'] > vaccine_hesitant_mean + vaccine_hesitant_std, ['vaccine_hesitant_category']] = 'High'\n",
    "vaccine_hesitancy.loc[vaccine_hesitancy['vaccine_hesitant'] < vaccine_hesitant_mean - vaccine_hesitant_std, ['vaccine_hesitant_category']] = 'Low'\n",
    "vaccine_hesitancy['vaccine_hesitant_category'] = vaccine_hesitancy['vaccine_hesitant_category'].fillna('Medium')\n",
    "vaccine_hesitancy"
   ]
  },
  {
   "source": [
    "### Education\n",
    "\n",
    "We keep four columns from the education dataset representing percentage of the entire adult population with specific educational attainment signifiers (less than high school degree, high school diploma only, some post-secondary degree, completion of bachelor's degree) and make sure to represent all the percentages as decimal values."
   ],
   "cell_type": "markdown",
   "metadata": {}
  },
  {
   "cell_type": "code",
   "execution_count": 66,
   "metadata": {},
   "outputs": [
    {
     "output_type": "execute_result",
     "data": {
      "text/plain": [
       "       fips  education_high_school_less  education_high_school_only  \\\n",
       "0         0                       0.120                       0.270   \n",
       "1      1000                       0.138                       0.308   \n",
       "2      1001                       0.115                       0.336   \n",
       "3      1003                       0.092                       0.277   \n",
       "4      1005                       0.268                       0.356   \n",
       "...     ...                         ...                         ...   \n",
       "3278  72145                       0.284                       0.262   \n",
       "3279  72147                       0.288                       0.392   \n",
       "3280  72149                       0.220                       0.384   \n",
       "3281  72151                       0.290                       0.257   \n",
       "3282  72153                       0.266                       0.333   \n",
       "\n",
       "      education_degree_some  education_bachelors_degree  \n",
       "0                     0.289                       0.321  \n",
       "1                     0.299                       0.255  \n",
       "2                     0.284                       0.266  \n",
       "3                     0.313                       0.319  \n",
       "4                     0.260                       0.116  \n",
       "...                     ...                         ...  \n",
       "3278                  0.241                       0.212  \n",
       "3279                  0.140                       0.180  \n",
       "3280                  0.197                       0.199  \n",
       "3281                  0.272                       0.180  \n",
       "3282                  0.155                       0.246  \n",
       "\n",
       "[3283 rows x 5 columns]"
      ],
      "text/html": "<div>\n<style scoped>\n    .dataframe tbody tr th:only-of-type {\n        vertical-align: middle;\n    }\n\n    .dataframe tbody tr th {\n        vertical-align: top;\n    }\n\n    .dataframe thead th {\n        text-align: right;\n    }\n</style>\n<table border=\"1\" class=\"dataframe\">\n  <thead>\n    <tr style=\"text-align: right;\">\n      <th></th>\n      <th>fips</th>\n      <th>education_high_school_less</th>\n      <th>education_high_school_only</th>\n      <th>education_degree_some</th>\n      <th>education_bachelors_degree</th>\n    </tr>\n  </thead>\n  <tbody>\n    <tr>\n      <th>0</th>\n      <td>0</td>\n      <td>0.120</td>\n      <td>0.270</td>\n      <td>0.289</td>\n      <td>0.321</td>\n    </tr>\n    <tr>\n      <th>1</th>\n      <td>1000</td>\n      <td>0.138</td>\n      <td>0.308</td>\n      <td>0.299</td>\n      <td>0.255</td>\n    </tr>\n    <tr>\n      <th>2</th>\n      <td>1001</td>\n      <td>0.115</td>\n      <td>0.336</td>\n      <td>0.284</td>\n      <td>0.266</td>\n    </tr>\n    <tr>\n      <th>3</th>\n      <td>1003</td>\n      <td>0.092</td>\n      <td>0.277</td>\n      <td>0.313</td>\n      <td>0.319</td>\n    </tr>\n    <tr>\n      <th>4</th>\n      <td>1005</td>\n      <td>0.268</td>\n      <td>0.356</td>\n      <td>0.260</td>\n      <td>0.116</td>\n    </tr>\n    <tr>\n      <th>...</th>\n      <td>...</td>\n      <td>...</td>\n      <td>...</td>\n      <td>...</td>\n      <td>...</td>\n    </tr>\n    <tr>\n      <th>3278</th>\n      <td>72145</td>\n      <td>0.284</td>\n      <td>0.262</td>\n      <td>0.241</td>\n      <td>0.212</td>\n    </tr>\n    <tr>\n      <th>3279</th>\n      <td>72147</td>\n      <td>0.288</td>\n      <td>0.392</td>\n      <td>0.140</td>\n      <td>0.180</td>\n    </tr>\n    <tr>\n      <th>3280</th>\n      <td>72149</td>\n      <td>0.220</td>\n      <td>0.384</td>\n      <td>0.197</td>\n      <td>0.199</td>\n    </tr>\n    <tr>\n      <th>3281</th>\n      <td>72151</td>\n      <td>0.290</td>\n      <td>0.257</td>\n      <td>0.272</td>\n      <td>0.180</td>\n    </tr>\n    <tr>\n      <th>3282</th>\n      <td>72153</td>\n      <td>0.266</td>\n      <td>0.333</td>\n      <td>0.155</td>\n      <td>0.246</td>\n    </tr>\n  </tbody>\n</table>\n<p>3283 rows × 5 columns</p>\n</div>"
     },
     "metadata": {},
     "execution_count": 66
    }
   ],
   "source": [
    "education = pd.read_csv('datasets/raw/Education.csv', encoding='iso-8859-1')\n",
    "education = education[['FIPS Code', 'Percent of adults with less than a high school diploma, 2015-19', 'Percent of adults with a high school diploma only, 2015-19', \"Percent of adults completing some college or associate's degree, 2015-19\", \"Percent of adults with a bachelor's degree or higher, 2015-19\"]]\n",
    "education = education.rename(columns = {'FIPS Code': 'fips', 'Percent of adults with less than a high school diploma, 2015-19': 'education_high_school_less', 'Percent of adults with a high school diploma only, 2015-19': 'education_high_school_only', \"Percent of adults completing some college or associate's degree, 2015-19\": 'education_degree_some', \"Percent of adults with a bachelor's degree or higher, 2015-19\": 'education_bachelors_degree'})\n",
    "education_cols = ['education_high_school_less', 'education_high_school_only', 'education_degree_some', 'education_bachelors_degree']\n",
    "education[education_cols] = education[education_cols].div(100)\n",
    "education"
   ]
  },
  {
   "source": [
    "#### Finding missing data\n",
    "Now that we've extracted out the useful data from that dataset, we check if we're missing any data from our master vaccine hesitancy dataset of county info. Using pandas  `isin` as a boolean mask on the two county index keys, we do what is more or less a difference between the two sets. Luckily, all our education data is complete and nothing is missing."
   ],
   "cell_type": "markdown",
   "metadata": {}
  },
  {
   "cell_type": "code",
   "execution_count": 67,
   "metadata": {},
   "outputs": [
    {
     "output_type": "execute_result",
     "data": {
      "text/plain": [
       "Empty DataFrame\n",
       "Columns: [fips, county_name, state, division, region]\n",
       "Index: []"
      ],
      "text/html": "<div>\n<style scoped>\n    .dataframe tbody tr th:only-of-type {\n        vertical-align: middle;\n    }\n\n    .dataframe tbody tr th {\n        vertical-align: top;\n    }\n\n    .dataframe thead th {\n        text-align: right;\n    }\n</style>\n<table border=\"1\" class=\"dataframe\">\n  <thead>\n    <tr style=\"text-align: right;\">\n      <th></th>\n      <th>fips</th>\n      <th>county_name</th>\n      <th>state</th>\n      <th>division</th>\n      <th>region</th>\n    </tr>\n  </thead>\n  <tbody>\n  </tbody>\n</table>\n</div>"
     },
     "metadata": {},
     "execution_count": 67
    }
   ],
   "source": [
    "# Show missing county rows in education dataset\n",
    "county[~county['fips'].isin(education['fips'])]"
   ]
  },
  {
   "source": [
    "### Poverty\n",
    "From the Poverty Estimate dataset, we keep the column of values for the percentage of the entire population that is in poverty in 2019. The data is in a narrow format, so we use pivot and make sure to represent the percentage as a decimal."
   ],
   "cell_type": "markdown",
   "metadata": {}
  },
  {
   "cell_type": "code",
   "execution_count": 68,
   "metadata": {},
   "outputs": [
    {
     "output_type": "execute_result",
     "data": {
      "text/plain": [
       "Attribute   fips  poverty\n",
       "0              0    0.123\n",
       "1           1000    0.156\n",
       "2           1001    0.121\n",
       "3           1003    0.101\n",
       "4           1005    0.271\n",
       "...          ...      ...\n",
       "3188       56037    0.083\n",
       "3189       56039    0.060\n",
       "3190       56041    0.085\n",
       "3191       56043    0.111\n",
       "3192       56045    0.105\n",
       "\n",
       "[3193 rows x 2 columns]"
      ],
      "text/html": "<div>\n<style scoped>\n    .dataframe tbody tr th:only-of-type {\n        vertical-align: middle;\n    }\n\n    .dataframe tbody tr th {\n        vertical-align: top;\n    }\n\n    .dataframe thead th {\n        text-align: right;\n    }\n</style>\n<table border=\"1\" class=\"dataframe\">\n  <thead>\n    <tr style=\"text-align: right;\">\n      <th>Attribute</th>\n      <th>fips</th>\n      <th>poverty</th>\n    </tr>\n  </thead>\n  <tbody>\n    <tr>\n      <th>0</th>\n      <td>0</td>\n      <td>0.123</td>\n    </tr>\n    <tr>\n      <th>1</th>\n      <td>1000</td>\n      <td>0.156</td>\n    </tr>\n    <tr>\n      <th>2</th>\n      <td>1001</td>\n      <td>0.121</td>\n    </tr>\n    <tr>\n      <th>3</th>\n      <td>1003</td>\n      <td>0.101</td>\n    </tr>\n    <tr>\n      <th>4</th>\n      <td>1005</td>\n      <td>0.271</td>\n    </tr>\n    <tr>\n      <th>...</th>\n      <td>...</td>\n      <td>...</td>\n    </tr>\n    <tr>\n      <th>3188</th>\n      <td>56037</td>\n      <td>0.083</td>\n    </tr>\n    <tr>\n      <th>3189</th>\n      <td>56039</td>\n      <td>0.060</td>\n    </tr>\n    <tr>\n      <th>3190</th>\n      <td>56041</td>\n      <td>0.085</td>\n    </tr>\n    <tr>\n      <th>3191</th>\n      <td>56043</td>\n      <td>0.111</td>\n    </tr>\n    <tr>\n      <th>3192</th>\n      <td>56045</td>\n      <td>0.105</td>\n    </tr>\n  </tbody>\n</table>\n<p>3193 rows × 2 columns</p>\n</div>"
     },
     "metadata": {},
     "execution_count": 68
    }
   ],
   "source": [
    "poverty = pd.read_csv('datasets/raw/PovertyEstimates.csv')\n",
    "poverty = poverty[['FIPStxt', 'Attribute', 'Value']].pivot(index='FIPStxt', columns='Attribute', values='Value').reset_index()\n",
    "poverty = poverty[['FIPStxt', 'PCTPOVALL_2019']].rename(columns = {'FIPStxt':'fips', 'PCTPOVALL_2019': 'poverty'})\n",
    "poverty['poverty'] = poverty['poverty'].div(100)\n",
    "poverty"
   ]
  },
  {
   "cell_type": "code",
   "execution_count": 69,
   "metadata": {},
   "outputs": [
    {
     "output_type": "execute_result",
     "data": {
      "text/plain": [
       "     fips             county_name   state division region\n",
       "48  15005  Kalawao County, Hawaii  Hawaii  Pacific   West"
      ],
      "text/html": "<div>\n<style scoped>\n    .dataframe tbody tr th:only-of-type {\n        vertical-align: middle;\n    }\n\n    .dataframe tbody tr th {\n        vertical-align: top;\n    }\n\n    .dataframe thead th {\n        text-align: right;\n    }\n</style>\n<table border=\"1\" class=\"dataframe\">\n  <thead>\n    <tr style=\"text-align: right;\">\n      <th></th>\n      <th>fips</th>\n      <th>county_name</th>\n      <th>state</th>\n      <th>division</th>\n      <th>region</th>\n    </tr>\n  </thead>\n  <tbody>\n    <tr>\n      <th>48</th>\n      <td>15005</td>\n      <td>Kalawao County, Hawaii</td>\n      <td>Hawaii</td>\n      <td>Pacific</td>\n      <td>West</td>\n    </tr>\n  </tbody>\n</table>\n</div>"
     },
     "metadata": {},
     "execution_count": 69
    }
   ],
   "source": [
    "# Show missing county rows in poverty dataset\n",
    "county[~county['fips'].isin(poverty['fips'])]"
   ]
  },
  {
   "source": [
    "### Natality"
   ],
   "cell_type": "markdown",
   "metadata": {}
  },
  {
   "cell_type": "code",
   "execution_count": 70,
   "metadata": {},
   "outputs": [
    {
     "output_type": "execute_result",
     "data": {
      "text/plain": [
       "       fips  population  birth_rate\n",
       "0         0   328239523         NaN\n",
       "1      1000     4903185       0.117\n",
       "2      1001       55869       0.112\n",
       "3      1003      223234       0.104\n",
       "4      1005       24686       0.103\n",
       "...     ...         ...         ...\n",
       "3268  72145       50023         NaN\n",
       "3269  72147        8386         NaN\n",
       "3270  72149       21372         NaN\n",
       "3271  72151       32282         NaN\n",
       "3272  72153       33575         NaN\n",
       "\n",
       "[3273 rows x 3 columns]"
      ],
      "text/html": "<div>\n<style scoped>\n    .dataframe tbody tr th:only-of-type {\n        vertical-align: middle;\n    }\n\n    .dataframe tbody tr th {\n        vertical-align: top;\n    }\n\n    .dataframe thead th {\n        text-align: right;\n    }\n</style>\n<table border=\"1\" class=\"dataframe\">\n  <thead>\n    <tr style=\"text-align: right;\">\n      <th></th>\n      <th>fips</th>\n      <th>population</th>\n      <th>birth_rate</th>\n    </tr>\n  </thead>\n  <tbody>\n    <tr>\n      <th>0</th>\n      <td>0</td>\n      <td>328239523</td>\n      <td>NaN</td>\n    </tr>\n    <tr>\n      <th>1</th>\n      <td>1000</td>\n      <td>4903185</td>\n      <td>0.117</td>\n    </tr>\n    <tr>\n      <th>2</th>\n      <td>1001</td>\n      <td>55869</td>\n      <td>0.112</td>\n    </tr>\n    <tr>\n      <th>3</th>\n      <td>1003</td>\n      <td>223234</td>\n      <td>0.104</td>\n    </tr>\n    <tr>\n      <th>4</th>\n      <td>1005</td>\n      <td>24686</td>\n      <td>0.103</td>\n    </tr>\n    <tr>\n      <th>...</th>\n      <td>...</td>\n      <td>...</td>\n      <td>...</td>\n    </tr>\n    <tr>\n      <th>3268</th>\n      <td>72145</td>\n      <td>50023</td>\n      <td>NaN</td>\n    </tr>\n    <tr>\n      <th>3269</th>\n      <td>72147</td>\n      <td>8386</td>\n      <td>NaN</td>\n    </tr>\n    <tr>\n      <th>3270</th>\n      <td>72149</td>\n      <td>21372</td>\n      <td>NaN</td>\n    </tr>\n    <tr>\n      <th>3271</th>\n      <td>72151</td>\n      <td>32282</td>\n      <td>NaN</td>\n    </tr>\n    <tr>\n      <th>3272</th>\n      <td>72153</td>\n      <td>33575</td>\n      <td>NaN</td>\n    </tr>\n  </tbody>\n</table>\n<p>3273 rows × 3 columns</p>\n</div>"
     },
     "metadata": {},
     "execution_count": 70
    }
   ],
   "source": [
    "natality = pd.read_csv('datasets/raw/PopulationEstimates.csv', thousands=',', encoding='iso-8859-1') # thousands arg is used since population column has integers as thousands comma separated number that is read as a string if not specified\n",
    "natality = natality[['FIPStxt', 'POP_ESTIMATE_2019', 'R_birth_2019']].rename(columns = {'FIPStxt': 'fips', 'POP_ESTIMATE_2019': 'population', 'R_birth_2019': 'birth_rate'})\n",
    "natality['birth_rate'] = natality['birth_rate'].div(100)\n",
    "natality"
   ]
  },
  {
   "cell_type": "code",
   "execution_count": 71,
   "metadata": {},
   "outputs": [
    {
     "output_type": "execute_result",
     "data": {
      "text/plain": [
       "Empty DataFrame\n",
       "Columns: [fips, county_name, state, division, region]\n",
       "Index: []"
      ],
      "text/html": "<div>\n<style scoped>\n    .dataframe tbody tr th:only-of-type {\n        vertical-align: middle;\n    }\n\n    .dataframe tbody tr th {\n        vertical-align: top;\n    }\n\n    .dataframe thead th {\n        text-align: right;\n    }\n</style>\n<table border=\"1\" class=\"dataframe\">\n  <thead>\n    <tr style=\"text-align: right;\">\n      <th></th>\n      <th>fips</th>\n      <th>county_name</th>\n      <th>state</th>\n      <th>division</th>\n      <th>region</th>\n    </tr>\n  </thead>\n  <tbody>\n  </tbody>\n</table>\n</div>"
     },
     "metadata": {},
     "execution_count": 71
    }
   ],
   "source": [
    "# Show missing county rows in natality dataset\n",
    "county[~county['fips'].isin(natality['fips'])]"
   ]
  },
  {
   "source": [
    "### Elections\n",
    "The original election dataset is given as Democrat, Republican and Other votes for each presidential election from 2008 to 2020. We simplify this data into something easier for us to analyze by finding the number of times the Democrat party has won in the past four presidential elections and similarly for the Republican party. This gives a sense of the political leaning for each county."
   ],
   "cell_type": "markdown",
   "metadata": {}
  },
  {
   "cell_type": "code",
   "execution_count": 72,
   "metadata": {},
   "outputs": [
    {
     "output_type": "execute_result",
     "data": {
      "text/plain": [
       "       fips election_2008 election_2012 election_2016 election_2020\n",
       "0     26041      Democrat    Republican    Republican    Republican\n",
       "1     48295    Republican    Republican    Republican    Republican\n",
       "2      1127    Republican    Republican    Republican    Republican\n",
       "3     48389      Democrat      Democrat      Democrat    Republican\n",
       "4     56017    Republican    Republican    Republican    Republican\n",
       "...     ...           ...           ...           ...           ...\n",
       "3106  17115      Democrat    Republican    Republican    Republican\n",
       "3107  29215    Republican    Republican    Republican    Republican\n",
       "3108  46051    Republican    Republican    Republican    Republican\n",
       "3109  17103    Republican    Republican    Republican    Republican\n",
       "3110  20063    Republican    Republican    Republican    Republican\n",
       "\n",
       "[3111 rows x 5 columns]"
      ],
      "text/html": "<div>\n<style scoped>\n    .dataframe tbody tr th:only-of-type {\n        vertical-align: middle;\n    }\n\n    .dataframe tbody tr th {\n        vertical-align: top;\n    }\n\n    .dataframe thead th {\n        text-align: right;\n    }\n</style>\n<table border=\"1\" class=\"dataframe\">\n  <thead>\n    <tr style=\"text-align: right;\">\n      <th></th>\n      <th>fips</th>\n      <th>election_2008</th>\n      <th>election_2012</th>\n      <th>election_2016</th>\n      <th>election_2020</th>\n    </tr>\n  </thead>\n  <tbody>\n    <tr>\n      <th>0</th>\n      <td>26041</td>\n      <td>Democrat</td>\n      <td>Republican</td>\n      <td>Republican</td>\n      <td>Republican</td>\n    </tr>\n    <tr>\n      <th>1</th>\n      <td>48295</td>\n      <td>Republican</td>\n      <td>Republican</td>\n      <td>Republican</td>\n      <td>Republican</td>\n    </tr>\n    <tr>\n      <th>2</th>\n      <td>1127</td>\n      <td>Republican</td>\n      <td>Republican</td>\n      <td>Republican</td>\n      <td>Republican</td>\n    </tr>\n    <tr>\n      <th>3</th>\n      <td>48389</td>\n      <td>Democrat</td>\n      <td>Democrat</td>\n      <td>Democrat</td>\n      <td>Republican</td>\n    </tr>\n    <tr>\n      <th>4</th>\n      <td>56017</td>\n      <td>Republican</td>\n      <td>Republican</td>\n      <td>Republican</td>\n      <td>Republican</td>\n    </tr>\n    <tr>\n      <th>...</th>\n      <td>...</td>\n      <td>...</td>\n      <td>...</td>\n      <td>...</td>\n      <td>...</td>\n    </tr>\n    <tr>\n      <th>3106</th>\n      <td>17115</td>\n      <td>Democrat</td>\n      <td>Republican</td>\n      <td>Republican</td>\n      <td>Republican</td>\n    </tr>\n    <tr>\n      <th>3107</th>\n      <td>29215</td>\n      <td>Republican</td>\n      <td>Republican</td>\n      <td>Republican</td>\n      <td>Republican</td>\n    </tr>\n    <tr>\n      <th>3108</th>\n      <td>46051</td>\n      <td>Republican</td>\n      <td>Republican</td>\n      <td>Republican</td>\n      <td>Republican</td>\n    </tr>\n    <tr>\n      <th>3109</th>\n      <td>17103</td>\n      <td>Republican</td>\n      <td>Republican</td>\n      <td>Republican</td>\n      <td>Republican</td>\n    </tr>\n    <tr>\n      <th>3110</th>\n      <td>20063</td>\n      <td>Republican</td>\n      <td>Republican</td>\n      <td>Republican</td>\n      <td>Republican</td>\n    </tr>\n  </tbody>\n</table>\n<p>3111 rows × 5 columns</p>\n</div>"
     },
     "metadata": {},
     "execution_count": 72
    }
   ],
   "source": [
    "election_years = [2008, 2012, 2016, 2020]\n",
    "def find_election_winner(row, year):\n",
    "    if row['dem_' + str(year)] > row['gop_' + str(year)]:\n",
    "        return 'Democrat'\n",
    "    else:\n",
    "        return 'Republican'\n",
    "elections_data = pd.read_csv('datasets/raw/US_County_Level_Presidential_Results_08-16.csv').rename(columns={'fips_code': 'fips'})\n",
    "elections_data_2020 = pd.read_csv('datasets/raw/2020_US_County_Level_Presidential_Results.csv').rename(columns={'votes_gop': 'gop_2020', 'votes_dem': 'dem_2020', 'county_fips': 'fips'})\n",
    "elections_data = elections_data.merge(elections_data_2020[['fips', 'gop_2020', 'dem_2020']], left_on='fips', right_on='fips').drop(columns=['county'])\n",
    "\n",
    "elections_winner = pd.DataFrame()\n",
    "elections_winner['fips'] = elections_data['fips']\n",
    "for year in election_years:\n",
    "    elections_winner['election_' + str(year)] = elections_data.apply(lambda row: find_election_winner(row, year), axis=1)\n",
    "elections_data = elections_data.rename(lambda col: 'election_' + col, axis='columns').rename(columns={'election_fips': 'fips'})\n",
    "elections_winner"
   ]
  },
  {
   "cell_type": "code",
   "execution_count": 73,
   "metadata": {},
   "outputs": [
    {
     "output_type": "execute_result",
     "data": {
      "text/plain": [
       "       fips  election_democrat_wins  election_republican_wins  \\\n",
       "0     26041                       1                         3   \n",
       "1     48295                       0                         4   \n",
       "2      1127                       0                         4   \n",
       "3     48389                       3                         1   \n",
       "4     56017                       0                         4   \n",
       "...     ...                     ...                       ...   \n",
       "3106  17115                       1                         3   \n",
       "3107  29215                       0                         4   \n",
       "3108  46051                       0                         4   \n",
       "3109  17103                       0                         4   \n",
       "3110  20063                       0                         4   \n",
       "\n",
       "      election_total_2008  election_dem_2008  election_gop_2008  \\\n",
       "0                   19064               9974               8763   \n",
       "1                    1256                155               1093   \n",
       "2                   28652               7420              20722   \n",
       "3                    3077               1606               1445   \n",
       "4                    2546                619               1834   \n",
       "...                   ...                ...                ...   \n",
       "3106                51216              25487              24948   \n",
       "3107                10851               3410               7215   \n",
       "3108                 3830               1786               1951   \n",
       "3109                16318               7765               8258   \n",
       "3110                 1418                261               1136   \n",
       "\n",
       "      election_oth_2008  election_total_2012  election_dem_2012  \\\n",
       "0                   327                18043               8330   \n",
       "1                     8                 1168                119   \n",
       "2                   510                28497               6551   \n",
       "3                    26                 2867               1649   \n",
       "4                    93                 2495                523   \n",
       "...                 ...                  ...                ...   \n",
       "3106                781                48742              22688   \n",
       "3107                226                10764               2871   \n",
       "3108                 93                 3606               1493   \n",
       "3109                295                15275               6932   \n",
       "3110                 21                 1368                174   \n",
       "\n",
       "      election_gop_2012  election_oth_2012  election_total_2016  \\\n",
       "0                  9533                180                18467   \n",
       "1                  1044                  5                 1322   \n",
       "2                 21633                313                29243   \n",
       "3                  1185                 33                 3184   \n",
       "4                  1894                 78                 2535   \n",
       "...                 ...                ...                  ...   \n",
       "3106              25249                805                47283   \n",
       "3107               7618                275                10935   \n",
       "3108               2034                 79                 3562   \n",
       "3109               8046                297                15215   \n",
       "3110               1155                 39                 1328   \n",
       "\n",
       "      election_dem_2016  election_gop_2016  election_oth_2016  \\\n",
       "0                  6431              11112                924   \n",
       "1                   135               1159                 28   \n",
       "2                  4486              24208                549   \n",
       "3                  1659               1417                108   \n",
       "4                   400               1939                196   \n",
       "...                 ...                ...                ...   \n",
       "3106              18211              26782               2290   \n",
       "3107               1728               8875                332   \n",
       "3108                970               2381                211   \n",
       "3109               5499               8597               1119   \n",
       "3110                149               1127                 52   \n",
       "\n",
       "      election_gop_2020  election_dem_2020  \n",
       "0                 13207               7606  \n",
       "1                  1205                131  \n",
       "2                 26002               4834  \n",
       "3                  2254               1395  \n",
       "4                  1999                482  \n",
       "...                 ...                ...  \n",
       "3106              28589              19847  \n",
       "3107               9478               1716  \n",
       "3108               2618               1056  \n",
       "3109               9630               6407  \n",
       "3110               1256                163  \n",
       "\n",
       "[3111 rows x 17 columns]"
      ],
      "text/html": "<div>\n<style scoped>\n    .dataframe tbody tr th:only-of-type {\n        vertical-align: middle;\n    }\n\n    .dataframe tbody tr th {\n        vertical-align: top;\n    }\n\n    .dataframe thead th {\n        text-align: right;\n    }\n</style>\n<table border=\"1\" class=\"dataframe\">\n  <thead>\n    <tr style=\"text-align: right;\">\n      <th></th>\n      <th>fips</th>\n      <th>election_democrat_wins</th>\n      <th>election_republican_wins</th>\n      <th>election_total_2008</th>\n      <th>election_dem_2008</th>\n      <th>election_gop_2008</th>\n      <th>election_oth_2008</th>\n      <th>election_total_2012</th>\n      <th>election_dem_2012</th>\n      <th>election_gop_2012</th>\n      <th>election_oth_2012</th>\n      <th>election_total_2016</th>\n      <th>election_dem_2016</th>\n      <th>election_gop_2016</th>\n      <th>election_oth_2016</th>\n      <th>election_gop_2020</th>\n      <th>election_dem_2020</th>\n    </tr>\n  </thead>\n  <tbody>\n    <tr>\n      <th>0</th>\n      <td>26041</td>\n      <td>1</td>\n      <td>3</td>\n      <td>19064</td>\n      <td>9974</td>\n      <td>8763</td>\n      <td>327</td>\n      <td>18043</td>\n      <td>8330</td>\n      <td>9533</td>\n      <td>180</td>\n      <td>18467</td>\n      <td>6431</td>\n      <td>11112</td>\n      <td>924</td>\n      <td>13207</td>\n      <td>7606</td>\n    </tr>\n    <tr>\n      <th>1</th>\n      <td>48295</td>\n      <td>0</td>\n      <td>4</td>\n      <td>1256</td>\n      <td>155</td>\n      <td>1093</td>\n      <td>8</td>\n      <td>1168</td>\n      <td>119</td>\n      <td>1044</td>\n      <td>5</td>\n      <td>1322</td>\n      <td>135</td>\n      <td>1159</td>\n      <td>28</td>\n      <td>1205</td>\n      <td>131</td>\n    </tr>\n    <tr>\n      <th>2</th>\n      <td>1127</td>\n      <td>0</td>\n      <td>4</td>\n      <td>28652</td>\n      <td>7420</td>\n      <td>20722</td>\n      <td>510</td>\n      <td>28497</td>\n      <td>6551</td>\n      <td>21633</td>\n      <td>313</td>\n      <td>29243</td>\n      <td>4486</td>\n      <td>24208</td>\n      <td>549</td>\n      <td>26002</td>\n      <td>4834</td>\n    </tr>\n    <tr>\n      <th>3</th>\n      <td>48389</td>\n      <td>3</td>\n      <td>1</td>\n      <td>3077</td>\n      <td>1606</td>\n      <td>1445</td>\n      <td>26</td>\n      <td>2867</td>\n      <td>1649</td>\n      <td>1185</td>\n      <td>33</td>\n      <td>3184</td>\n      <td>1659</td>\n      <td>1417</td>\n      <td>108</td>\n      <td>2254</td>\n      <td>1395</td>\n    </tr>\n    <tr>\n      <th>4</th>\n      <td>56017</td>\n      <td>0</td>\n      <td>4</td>\n      <td>2546</td>\n      <td>619</td>\n      <td>1834</td>\n      <td>93</td>\n      <td>2495</td>\n      <td>523</td>\n      <td>1894</td>\n      <td>78</td>\n      <td>2535</td>\n      <td>400</td>\n      <td>1939</td>\n      <td>196</td>\n      <td>1999</td>\n      <td>482</td>\n    </tr>\n    <tr>\n      <th>...</th>\n      <td>...</td>\n      <td>...</td>\n      <td>...</td>\n      <td>...</td>\n      <td>...</td>\n      <td>...</td>\n      <td>...</td>\n      <td>...</td>\n      <td>...</td>\n      <td>...</td>\n      <td>...</td>\n      <td>...</td>\n      <td>...</td>\n      <td>...</td>\n      <td>...</td>\n      <td>...</td>\n      <td>...</td>\n    </tr>\n    <tr>\n      <th>3106</th>\n      <td>17115</td>\n      <td>1</td>\n      <td>3</td>\n      <td>51216</td>\n      <td>25487</td>\n      <td>24948</td>\n      <td>781</td>\n      <td>48742</td>\n      <td>22688</td>\n      <td>25249</td>\n      <td>805</td>\n      <td>47283</td>\n      <td>18211</td>\n      <td>26782</td>\n      <td>2290</td>\n      <td>28589</td>\n      <td>19847</td>\n    </tr>\n    <tr>\n      <th>3107</th>\n      <td>29215</td>\n      <td>0</td>\n      <td>4</td>\n      <td>10851</td>\n      <td>3410</td>\n      <td>7215</td>\n      <td>226</td>\n      <td>10764</td>\n      <td>2871</td>\n      <td>7618</td>\n      <td>275</td>\n      <td>10935</td>\n      <td>1728</td>\n      <td>8875</td>\n      <td>332</td>\n      <td>9478</td>\n      <td>1716</td>\n    </tr>\n    <tr>\n      <th>3108</th>\n      <td>46051</td>\n      <td>0</td>\n      <td>4</td>\n      <td>3830</td>\n      <td>1786</td>\n      <td>1951</td>\n      <td>93</td>\n      <td>3606</td>\n      <td>1493</td>\n      <td>2034</td>\n      <td>79</td>\n      <td>3562</td>\n      <td>970</td>\n      <td>2381</td>\n      <td>211</td>\n      <td>2618</td>\n      <td>1056</td>\n    </tr>\n    <tr>\n      <th>3109</th>\n      <td>17103</td>\n      <td>0</td>\n      <td>4</td>\n      <td>16318</td>\n      <td>7765</td>\n      <td>8258</td>\n      <td>295</td>\n      <td>15275</td>\n      <td>6932</td>\n      <td>8046</td>\n      <td>297</td>\n      <td>15215</td>\n      <td>5499</td>\n      <td>8597</td>\n      <td>1119</td>\n      <td>9630</td>\n      <td>6407</td>\n    </tr>\n    <tr>\n      <th>3110</th>\n      <td>20063</td>\n      <td>0</td>\n      <td>4</td>\n      <td>1418</td>\n      <td>261</td>\n      <td>1136</td>\n      <td>21</td>\n      <td>1368</td>\n      <td>174</td>\n      <td>1155</td>\n      <td>39</td>\n      <td>1328</td>\n      <td>149</td>\n      <td>1127</td>\n      <td>52</td>\n      <td>1256</td>\n      <td>163</td>\n    </tr>\n  </tbody>\n</table>\n<p>3111 rows × 17 columns</p>\n</div>"
     },
     "metadata": {},
     "execution_count": 73
    }
   ],
   "source": [
    "elections_winner['election_democrat_wins'] = sum([elections_winner['election_' + str(year)].str.count('Democrat') for year in election_years])\n",
    "elections_winner['election_republican_wins'] = sum([elections_winner['election_' + str(year)].str.count('Republican') for year in election_years])\n",
    "elections = elections_winner[['fips', 'election_democrat_wins', 'election_republican_wins']]\n",
    "elections = elections.merge(elections_data, left_on='fips', right_on='fips')\n",
    "elections"
   ]
  },
  {
   "cell_type": "code",
   "execution_count": 74,
   "metadata": {},
   "outputs": [
    {
     "output_type": "execute_result",
     "data": {
      "text/plain": [
       "       fips                                county_name         state  \\\n",
       "4      2013             Aleutians East Borough, Alaska        Alaska   \n",
       "5      2016         Aleutians West Census Area, Alaska        Alaska   \n",
       "24     2050                 Bethel Census Area, Alaska        Alaska   \n",
       "48    15005                     Kalawao County, Hawaii        Hawaii   \n",
       "371    2020             Anchorage Municipality, Alaska        Alaska   \n",
       "375    2198  Prince of Wales-Hyder Census Area, Alaska        Alaska   \n",
       "392    2275          Wrangell City and Borough, Alaska        Alaska   \n",
       "394    2122            Kenai Peninsula Borough, Alaska        Alaska   \n",
       "398    2180                   Nome Census Area, Alaska        Alaska   \n",
       "402    2261         Valdez-Cordova Census Area, Alaska        Alaska   \n",
       "403    2220             Sitka City and Borough, Alaska        Alaska   \n",
       "407    2090       Fairbanks North Star Borough, Alaska        Alaska   \n",
       "411    2185                North Slope Borough, Alaska        Alaska   \n",
       "424    2110            Juneau City and Borough, Alaska        Alaska   \n",
       "430    2070             Dillingham Census Area, Alaska        Alaska   \n",
       "446    2150              Kodiak Island Borough, Alaska        Alaska   \n",
       "449    2060                Bristol Bay Borough, Alaska        Alaska   \n",
       "454    2188           Northwest Arctic Borough, Alaska        Alaska   \n",
       "456    2158               Kusilvak Census Area, Alaska        Alaska   \n",
       "457    2105          Hoonah-Angoon Census Area, Alaska        Alaska   \n",
       "463    2240    Southeast Fairbanks Census Area, Alaska        Alaska   \n",
       "470    2290          Yukon-Koyukuk Census Area, Alaska        Alaska   \n",
       "476    2068                     Denali Borough, Alaska        Alaska   \n",
       "480    2195                 Petersburg Borough, Alaska        Alaska   \n",
       "489    2100                     Haines Borough, Alaska        Alaska   \n",
       "492    2164         Lake and Peninsula Borough, Alaska        Alaska   \n",
       "502    2130          Ketchikan Gateway Borough, Alaska        Alaska   \n",
       "503    2282           Yakutat City and Borough, Alaska        Alaska   \n",
       "507    2230               Skagway Municipality, Alaska        Alaska   \n",
       "510    2170          Matanuska-Susitna Borough, Alaska        Alaska   \n",
       "2724  46102         Oglala Lakota County, South Dakota  South Dakota   \n",
       "\n",
       "                division   region  \n",
       "4                Pacific     West  \n",
       "5                Pacific     West  \n",
       "24               Pacific     West  \n",
       "48               Pacific     West  \n",
       "371              Pacific     West  \n",
       "375              Pacific     West  \n",
       "392              Pacific     West  \n",
       "394              Pacific     West  \n",
       "398              Pacific     West  \n",
       "402              Pacific     West  \n",
       "403              Pacific     West  \n",
       "407              Pacific     West  \n",
       "411              Pacific     West  \n",
       "424              Pacific     West  \n",
       "430              Pacific     West  \n",
       "446              Pacific     West  \n",
       "449              Pacific     West  \n",
       "454              Pacific     West  \n",
       "456              Pacific     West  \n",
       "457              Pacific     West  \n",
       "463              Pacific     West  \n",
       "470              Pacific     West  \n",
       "476              Pacific     West  \n",
       "480              Pacific     West  \n",
       "489              Pacific     West  \n",
       "492              Pacific     West  \n",
       "502              Pacific     West  \n",
       "503              Pacific     West  \n",
       "507              Pacific     West  \n",
       "510              Pacific     West  \n",
       "2724  West North Central  Midwest  "
      ],
      "text/html": "<div>\n<style scoped>\n    .dataframe tbody tr th:only-of-type {\n        vertical-align: middle;\n    }\n\n    .dataframe tbody tr th {\n        vertical-align: top;\n    }\n\n    .dataframe thead th {\n        text-align: right;\n    }\n</style>\n<table border=\"1\" class=\"dataframe\">\n  <thead>\n    <tr style=\"text-align: right;\">\n      <th></th>\n      <th>fips</th>\n      <th>county_name</th>\n      <th>state</th>\n      <th>division</th>\n      <th>region</th>\n    </tr>\n  </thead>\n  <tbody>\n    <tr>\n      <th>4</th>\n      <td>2013</td>\n      <td>Aleutians East Borough, Alaska</td>\n      <td>Alaska</td>\n      <td>Pacific</td>\n      <td>West</td>\n    </tr>\n    <tr>\n      <th>5</th>\n      <td>2016</td>\n      <td>Aleutians West Census Area, Alaska</td>\n      <td>Alaska</td>\n      <td>Pacific</td>\n      <td>West</td>\n    </tr>\n    <tr>\n      <th>24</th>\n      <td>2050</td>\n      <td>Bethel Census Area, Alaska</td>\n      <td>Alaska</td>\n      <td>Pacific</td>\n      <td>West</td>\n    </tr>\n    <tr>\n      <th>48</th>\n      <td>15005</td>\n      <td>Kalawao County, Hawaii</td>\n      <td>Hawaii</td>\n      <td>Pacific</td>\n      <td>West</td>\n    </tr>\n    <tr>\n      <th>371</th>\n      <td>2020</td>\n      <td>Anchorage Municipality, Alaska</td>\n      <td>Alaska</td>\n      <td>Pacific</td>\n      <td>West</td>\n    </tr>\n    <tr>\n      <th>375</th>\n      <td>2198</td>\n      <td>Prince of Wales-Hyder Census Area, Alaska</td>\n      <td>Alaska</td>\n      <td>Pacific</td>\n      <td>West</td>\n    </tr>\n    <tr>\n      <th>392</th>\n      <td>2275</td>\n      <td>Wrangell City and Borough, Alaska</td>\n      <td>Alaska</td>\n      <td>Pacific</td>\n      <td>West</td>\n    </tr>\n    <tr>\n      <th>394</th>\n      <td>2122</td>\n      <td>Kenai Peninsula Borough, Alaska</td>\n      <td>Alaska</td>\n      <td>Pacific</td>\n      <td>West</td>\n    </tr>\n    <tr>\n      <th>398</th>\n      <td>2180</td>\n      <td>Nome Census Area, Alaska</td>\n      <td>Alaska</td>\n      <td>Pacific</td>\n      <td>West</td>\n    </tr>\n    <tr>\n      <th>402</th>\n      <td>2261</td>\n      <td>Valdez-Cordova Census Area, Alaska</td>\n      <td>Alaska</td>\n      <td>Pacific</td>\n      <td>West</td>\n    </tr>\n    <tr>\n      <th>403</th>\n      <td>2220</td>\n      <td>Sitka City and Borough, Alaska</td>\n      <td>Alaska</td>\n      <td>Pacific</td>\n      <td>West</td>\n    </tr>\n    <tr>\n      <th>407</th>\n      <td>2090</td>\n      <td>Fairbanks North Star Borough, Alaska</td>\n      <td>Alaska</td>\n      <td>Pacific</td>\n      <td>West</td>\n    </tr>\n    <tr>\n      <th>411</th>\n      <td>2185</td>\n      <td>North Slope Borough, Alaska</td>\n      <td>Alaska</td>\n      <td>Pacific</td>\n      <td>West</td>\n    </tr>\n    <tr>\n      <th>424</th>\n      <td>2110</td>\n      <td>Juneau City and Borough, Alaska</td>\n      <td>Alaska</td>\n      <td>Pacific</td>\n      <td>West</td>\n    </tr>\n    <tr>\n      <th>430</th>\n      <td>2070</td>\n      <td>Dillingham Census Area, Alaska</td>\n      <td>Alaska</td>\n      <td>Pacific</td>\n      <td>West</td>\n    </tr>\n    <tr>\n      <th>446</th>\n      <td>2150</td>\n      <td>Kodiak Island Borough, Alaska</td>\n      <td>Alaska</td>\n      <td>Pacific</td>\n      <td>West</td>\n    </tr>\n    <tr>\n      <th>449</th>\n      <td>2060</td>\n      <td>Bristol Bay Borough, Alaska</td>\n      <td>Alaska</td>\n      <td>Pacific</td>\n      <td>West</td>\n    </tr>\n    <tr>\n      <th>454</th>\n      <td>2188</td>\n      <td>Northwest Arctic Borough, Alaska</td>\n      <td>Alaska</td>\n      <td>Pacific</td>\n      <td>West</td>\n    </tr>\n    <tr>\n      <th>456</th>\n      <td>2158</td>\n      <td>Kusilvak Census Area, Alaska</td>\n      <td>Alaska</td>\n      <td>Pacific</td>\n      <td>West</td>\n    </tr>\n    <tr>\n      <th>457</th>\n      <td>2105</td>\n      <td>Hoonah-Angoon Census Area, Alaska</td>\n      <td>Alaska</td>\n      <td>Pacific</td>\n      <td>West</td>\n    </tr>\n    <tr>\n      <th>463</th>\n      <td>2240</td>\n      <td>Southeast Fairbanks Census Area, Alaska</td>\n      <td>Alaska</td>\n      <td>Pacific</td>\n      <td>West</td>\n    </tr>\n    <tr>\n      <th>470</th>\n      <td>2290</td>\n      <td>Yukon-Koyukuk Census Area, Alaska</td>\n      <td>Alaska</td>\n      <td>Pacific</td>\n      <td>West</td>\n    </tr>\n    <tr>\n      <th>476</th>\n      <td>2068</td>\n      <td>Denali Borough, Alaska</td>\n      <td>Alaska</td>\n      <td>Pacific</td>\n      <td>West</td>\n    </tr>\n    <tr>\n      <th>480</th>\n      <td>2195</td>\n      <td>Petersburg Borough, Alaska</td>\n      <td>Alaska</td>\n      <td>Pacific</td>\n      <td>West</td>\n    </tr>\n    <tr>\n      <th>489</th>\n      <td>2100</td>\n      <td>Haines Borough, Alaska</td>\n      <td>Alaska</td>\n      <td>Pacific</td>\n      <td>West</td>\n    </tr>\n    <tr>\n      <th>492</th>\n      <td>2164</td>\n      <td>Lake and Peninsula Borough, Alaska</td>\n      <td>Alaska</td>\n      <td>Pacific</td>\n      <td>West</td>\n    </tr>\n    <tr>\n      <th>502</th>\n      <td>2130</td>\n      <td>Ketchikan Gateway Borough, Alaska</td>\n      <td>Alaska</td>\n      <td>Pacific</td>\n      <td>West</td>\n    </tr>\n    <tr>\n      <th>503</th>\n      <td>2282</td>\n      <td>Yakutat City and Borough, Alaska</td>\n      <td>Alaska</td>\n      <td>Pacific</td>\n      <td>West</td>\n    </tr>\n    <tr>\n      <th>507</th>\n      <td>2230</td>\n      <td>Skagway Municipality, Alaska</td>\n      <td>Alaska</td>\n      <td>Pacific</td>\n      <td>West</td>\n    </tr>\n    <tr>\n      <th>510</th>\n      <td>2170</td>\n      <td>Matanuska-Susitna Borough, Alaska</td>\n      <td>Alaska</td>\n      <td>Pacific</td>\n      <td>West</td>\n    </tr>\n    <tr>\n      <th>2724</th>\n      <td>46102</td>\n      <td>Oglala Lakota County, South Dakota</td>\n      <td>South Dakota</td>\n      <td>West North Central</td>\n      <td>Midwest</td>\n    </tr>\n  </tbody>\n</table>\n</div>"
     },
     "metadata": {},
     "execution_count": 74
    }
   ],
   "source": [
    "# Show missing county rows in elections dataset\n",
    "county[~county['fips'].isin(elections['fips'])]"
   ]
  },
  {
   "source": [
    "### Unemployment\n",
    "From the Unemployment dataset, we have several useful data points involving geography (rural vs urban continuum code, urban influence code), income (median household, and represented as a percent of median state total) and unemployment rate."
   ],
   "cell_type": "markdown",
   "metadata": {}
  },
  {
   "cell_type": "code",
   "execution_count": 75,
   "metadata": {},
   "outputs": [
    {
     "output_type": "execute_result",
     "data": {
      "text/plain": [
       "Attribute   fips  rural_urban_code  urban_influence_code\n",
       "0              0               NaN                   NaN\n",
       "1           1000               NaN                   NaN\n",
       "2           1001               2.0                   2.0\n",
       "3           1003               3.0                   2.0\n",
       "4           1005               6.0                   6.0\n",
       "...          ...               ...                   ...\n",
       "3270       72145               1.0                   1.0\n",
       "3271       72147               7.0                  12.0\n",
       "3272       72149               2.0                   2.0\n",
       "3273       72151               1.0                   1.0\n",
       "3274       72153               2.0                   2.0\n",
       "\n",
       "[3275 rows x 3 columns]"
      ],
      "text/html": "<div>\n<style scoped>\n    .dataframe tbody tr th:only-of-type {\n        vertical-align: middle;\n    }\n\n    .dataframe tbody tr th {\n        vertical-align: top;\n    }\n\n    .dataframe thead th {\n        text-align: right;\n    }\n</style>\n<table border=\"1\" class=\"dataframe\">\n  <thead>\n    <tr style=\"text-align: right;\">\n      <th>Attribute</th>\n      <th>fips</th>\n      <th>rural_urban_code</th>\n      <th>urban_influence_code</th>\n    </tr>\n  </thead>\n  <tbody>\n    <tr>\n      <th>0</th>\n      <td>0</td>\n      <td>NaN</td>\n      <td>NaN</td>\n    </tr>\n    <tr>\n      <th>1</th>\n      <td>1000</td>\n      <td>NaN</td>\n      <td>NaN</td>\n    </tr>\n    <tr>\n      <th>2</th>\n      <td>1001</td>\n      <td>2.0</td>\n      <td>2.0</td>\n    </tr>\n    <tr>\n      <th>3</th>\n      <td>1003</td>\n      <td>3.0</td>\n      <td>2.0</td>\n    </tr>\n    <tr>\n      <th>4</th>\n      <td>1005</td>\n      <td>6.0</td>\n      <td>6.0</td>\n    </tr>\n    <tr>\n      <th>...</th>\n      <td>...</td>\n      <td>...</td>\n      <td>...</td>\n    </tr>\n    <tr>\n      <th>3270</th>\n      <td>72145</td>\n      <td>1.0</td>\n      <td>1.0</td>\n    </tr>\n    <tr>\n      <th>3271</th>\n      <td>72147</td>\n      <td>7.0</td>\n      <td>12.0</td>\n    </tr>\n    <tr>\n      <th>3272</th>\n      <td>72149</td>\n      <td>2.0</td>\n      <td>2.0</td>\n    </tr>\n    <tr>\n      <th>3273</th>\n      <td>72151</td>\n      <td>1.0</td>\n      <td>1.0</td>\n    </tr>\n    <tr>\n      <th>3274</th>\n      <td>72153</td>\n      <td>2.0</td>\n      <td>2.0</td>\n    </tr>\n  </tbody>\n</table>\n<p>3275 rows × 3 columns</p>\n</div>"
     },
     "metadata": {},
     "execution_count": 75
    }
   ],
   "source": [
    "unemployment = pd.read_csv('datasets/raw/Unemployment.csv').pivot(index='fips_txt', columns='Attribute', values='Value').reset_index().rename(columns = {'fips_txt':'fips'})\n",
    "geography = unemployment[['fips', 'Rural_urban_continuum_code_2013', 'Urban_influence_code_2013']].rename(columns={'Rural_urban_continuum_code_2013': 'rural_urban_code', 'Urban_influence_code_2013': 'urban_influence_code'})\n",
    "# TODO: convert urban/rural codes into z-scores\n",
    "geography"
   ]
  },
  {
   "cell_type": "code",
   "execution_count": 76,
   "metadata": {},
   "outputs": [
    {
     "output_type": "execute_result",
     "data": {
      "text/plain": [
       "     fips             county_name   state division region\n",
       "48  15005  Kalawao County, Hawaii  Hawaii  Pacific   West"
      ],
      "text/html": "<div>\n<style scoped>\n    .dataframe tbody tr th:only-of-type {\n        vertical-align: middle;\n    }\n\n    .dataframe tbody tr th {\n        vertical-align: top;\n    }\n\n    .dataframe thead th {\n        text-align: right;\n    }\n</style>\n<table border=\"1\" class=\"dataframe\">\n  <thead>\n    <tr style=\"text-align: right;\">\n      <th></th>\n      <th>fips</th>\n      <th>county_name</th>\n      <th>state</th>\n      <th>division</th>\n      <th>region</th>\n    </tr>\n  </thead>\n  <tbody>\n    <tr>\n      <th>48</th>\n      <td>15005</td>\n      <td>Kalawao County, Hawaii</td>\n      <td>Hawaii</td>\n      <td>Pacific</td>\n      <td>West</td>\n    </tr>\n  </tbody>\n</table>\n</div>"
     },
     "metadata": {},
     "execution_count": 76
    }
   ],
   "source": [
    "# Show missing county rows in geography dataset\n",
    "county[~county['fips'].isin(geography['fips'])]"
   ]
  },
  {
   "source": [
    "### Income\n",
    "To look at the county's economic factors, we keep two columns representing the estimated median household income in 2019 and the county household median income as a percent of the state total median household income. We represent this percent as a decimal."
   ],
   "cell_type": "markdown",
   "metadata": {}
  },
  {
   "cell_type": "code",
   "execution_count": 77,
   "metadata": {},
   "outputs": [
    {
     "output_type": "execute_result",
     "data": {
      "text/plain": [
       "Attribute   fips  median_income_percent_state  median_income\n",
       "0              0                          NaN        65712.0\n",
       "1           1000                     1.000000        51771.0\n",
       "2           1001                     1.124819        58233.0\n",
       "3           1003                     1.156458        59871.0\n",
       "4           1005                     0.694829        35972.0\n",
       "...          ...                          ...            ...\n",
       "3270       72145                          NaN            NaN\n",
       "3271       72147                          NaN            NaN\n",
       "3272       72149                          NaN            NaN\n",
       "3273       72151                          NaN            NaN\n",
       "3274       72153                          NaN            NaN\n",
       "\n",
       "[3275 rows x 3 columns]"
      ],
      "text/html": "<div>\n<style scoped>\n    .dataframe tbody tr th:only-of-type {\n        vertical-align: middle;\n    }\n\n    .dataframe tbody tr th {\n        vertical-align: top;\n    }\n\n    .dataframe thead th {\n        text-align: right;\n    }\n</style>\n<table border=\"1\" class=\"dataframe\">\n  <thead>\n    <tr style=\"text-align: right;\">\n      <th>Attribute</th>\n      <th>fips</th>\n      <th>median_income_percent_state</th>\n      <th>median_income</th>\n    </tr>\n  </thead>\n  <tbody>\n    <tr>\n      <th>0</th>\n      <td>0</td>\n      <td>NaN</td>\n      <td>65712.0</td>\n    </tr>\n    <tr>\n      <th>1</th>\n      <td>1000</td>\n      <td>1.000000</td>\n      <td>51771.0</td>\n    </tr>\n    <tr>\n      <th>2</th>\n      <td>1001</td>\n      <td>1.124819</td>\n      <td>58233.0</td>\n    </tr>\n    <tr>\n      <th>3</th>\n      <td>1003</td>\n      <td>1.156458</td>\n      <td>59871.0</td>\n    </tr>\n    <tr>\n      <th>4</th>\n      <td>1005</td>\n      <td>0.694829</td>\n      <td>35972.0</td>\n    </tr>\n    <tr>\n      <th>...</th>\n      <td>...</td>\n      <td>...</td>\n      <td>...</td>\n    </tr>\n    <tr>\n      <th>3270</th>\n      <td>72145</td>\n      <td>NaN</td>\n      <td>NaN</td>\n    </tr>\n    <tr>\n      <th>3271</th>\n      <td>72147</td>\n      <td>NaN</td>\n      <td>NaN</td>\n    </tr>\n    <tr>\n      <th>3272</th>\n      <td>72149</td>\n      <td>NaN</td>\n      <td>NaN</td>\n    </tr>\n    <tr>\n      <th>3273</th>\n      <td>72151</td>\n      <td>NaN</td>\n      <td>NaN</td>\n    </tr>\n    <tr>\n      <th>3274</th>\n      <td>72153</td>\n      <td>NaN</td>\n      <td>NaN</td>\n    </tr>\n  </tbody>\n</table>\n<p>3275 rows × 3 columns</p>\n</div>"
     },
     "metadata": {},
     "execution_count": 77
    }
   ],
   "source": [
    "income = unemployment[['fips', 'Med_HH_Income_Percent_of_State_Total_2019', 'Median_Household_Income_2019']].rename(columns={'Med_HH_Income_Percent_of_State_Total_2019': 'median_income_percent_state', 'Median_Household_Income_2019': 'median_income'})\n",
    "income['median_income_percent_state'] = income['median_income_percent_state'].div(100)\n",
    "income"
   ]
  },
  {
   "cell_type": "code",
   "execution_count": 78,
   "metadata": {},
   "outputs": [
    {
     "output_type": "execute_result",
     "data": {
      "text/plain": [
       "     fips             county_name   state division region\n",
       "48  15005  Kalawao County, Hawaii  Hawaii  Pacific   West"
      ],
      "text/html": "<div>\n<style scoped>\n    .dataframe tbody tr th:only-of-type {\n        vertical-align: middle;\n    }\n\n    .dataframe tbody tr th {\n        vertical-align: top;\n    }\n\n    .dataframe thead th {\n        text-align: right;\n    }\n</style>\n<table border=\"1\" class=\"dataframe\">\n  <thead>\n    <tr style=\"text-align: right;\">\n      <th></th>\n      <th>fips</th>\n      <th>county_name</th>\n      <th>state</th>\n      <th>division</th>\n      <th>region</th>\n    </tr>\n  </thead>\n  <tbody>\n    <tr>\n      <th>48</th>\n      <td>15005</td>\n      <td>Kalawao County, Hawaii</td>\n      <td>Hawaii</td>\n      <td>Pacific</td>\n      <td>West</td>\n    </tr>\n  </tbody>\n</table>\n</div>"
     },
     "metadata": {},
     "execution_count": 78
    }
   ],
   "source": [
    "# Show missing county rows in income dataset\n",
    "county[~county['fips'].isin(income['fips'])]"
   ]
  },
  {
   "source": [
    "### Unemployment"
   ],
   "cell_type": "markdown",
   "metadata": {}
  },
  {
   "cell_type": "code",
   "execution_count": 79,
   "metadata": {},
   "outputs": [
    {
     "output_type": "execute_result",
     "data": {
      "text/plain": [
       "Attribute   fips  unemployment\n",
       "0              0      0.036694\n",
       "1           1000      0.030000\n",
       "2           1001      0.027000\n",
       "3           1003      0.027000\n",
       "4           1005      0.038000\n",
       "...          ...           ...\n",
       "3270       72145      0.096000\n",
       "3271       72147      0.069000\n",
       "3272       72149      0.159000\n",
       "3273       72151      0.131000\n",
       "3274       72153      0.146000\n",
       "\n",
       "[3275 rows x 2 columns]"
      ],
      "text/html": "<div>\n<style scoped>\n    .dataframe tbody tr th:only-of-type {\n        vertical-align: middle;\n    }\n\n    .dataframe tbody tr th {\n        vertical-align: top;\n    }\n\n    .dataframe thead th {\n        text-align: right;\n    }\n</style>\n<table border=\"1\" class=\"dataframe\">\n  <thead>\n    <tr style=\"text-align: right;\">\n      <th>Attribute</th>\n      <th>fips</th>\n      <th>unemployment</th>\n    </tr>\n  </thead>\n  <tbody>\n    <tr>\n      <th>0</th>\n      <td>0</td>\n      <td>0.036694</td>\n    </tr>\n    <tr>\n      <th>1</th>\n      <td>1000</td>\n      <td>0.030000</td>\n    </tr>\n    <tr>\n      <th>2</th>\n      <td>1001</td>\n      <td>0.027000</td>\n    </tr>\n    <tr>\n      <th>3</th>\n      <td>1003</td>\n      <td>0.027000</td>\n    </tr>\n    <tr>\n      <th>4</th>\n      <td>1005</td>\n      <td>0.038000</td>\n    </tr>\n    <tr>\n      <th>...</th>\n      <td>...</td>\n      <td>...</td>\n    </tr>\n    <tr>\n      <th>3270</th>\n      <td>72145</td>\n      <td>0.096000</td>\n    </tr>\n    <tr>\n      <th>3271</th>\n      <td>72147</td>\n      <td>0.069000</td>\n    </tr>\n    <tr>\n      <th>3272</th>\n      <td>72149</td>\n      <td>0.159000</td>\n    </tr>\n    <tr>\n      <th>3273</th>\n      <td>72151</td>\n      <td>0.131000</td>\n    </tr>\n    <tr>\n      <th>3274</th>\n      <td>72153</td>\n      <td>0.146000</td>\n    </tr>\n  </tbody>\n</table>\n<p>3275 rows × 2 columns</p>\n</div>"
     },
     "metadata": {},
     "execution_count": 79
    }
   ],
   "source": [
    "unemployment = unemployment[['fips', 'Unemployment_rate_2019']].rename(columns={'Unemployment_rate_2019': 'unemployment'})\n",
    "unemployment['unemployment'] = unemployment['unemployment'].div(100)\n",
    "unemployment"
   ]
  },
  {
   "cell_type": "code",
   "execution_count": 80,
   "metadata": {},
   "outputs": [
    {
     "output_type": "execute_result",
     "data": {
      "text/plain": [
       "     fips             county_name   state division region\n",
       "48  15005  Kalawao County, Hawaii  Hawaii  Pacific   West"
      ],
      "text/html": "<div>\n<style scoped>\n    .dataframe tbody tr th:only-of-type {\n        vertical-align: middle;\n    }\n\n    .dataframe tbody tr th {\n        vertical-align: top;\n    }\n\n    .dataframe thead th {\n        text-align: right;\n    }\n</style>\n<table border=\"1\" class=\"dataframe\">\n  <thead>\n    <tr style=\"text-align: right;\">\n      <th></th>\n      <th>fips</th>\n      <th>county_name</th>\n      <th>state</th>\n      <th>division</th>\n      <th>region</th>\n    </tr>\n  </thead>\n  <tbody>\n    <tr>\n      <th>48</th>\n      <td>15005</td>\n      <td>Kalawao County, Hawaii</td>\n      <td>Hawaii</td>\n      <td>Pacific</td>\n      <td>West</td>\n    </tr>\n  </tbody>\n</table>\n</div>"
     },
     "metadata": {},
     "execution_count": 80
    }
   ],
   "source": [
    "# Show missing county rows in unemployment dataset\n",
    "county[~county['fips'].isin(unemployment['fips'])]"
   ]
  },
  {
   "source": [
    "### Religion"
   ],
   "cell_type": "markdown",
   "metadata": {}
  },
  {
   "cell_type": "code",
   "execution_count": 81,
   "metadata": {},
   "outputs": [
    {
     "output_type": "execute_result",
     "data": {
      "text/plain": [
       "       fips  religion_total  religion_evangelical  \\\n",
       "0      1001      676.878889            503.990000   \n",
       "1      1003      531.740000            318.138889   \n",
       "2      1005      549.990000            320.250000   \n",
       "3      1007      498.800000            443.328889   \n",
       "4      1009      651.620000            509.800000   \n",
       "...     ...             ...                   ...   \n",
       "3144  56037      477.220000             99.120000   \n",
       "3145  56039      260.360000             42.030000   \n",
       "3146  56041      606.830000             68.658889   \n",
       "3147  56043      471.818889            155.870000   \n",
       "3148  56045      280.518889             81.578889   \n",
       "\n",
       "      religion_mainline_protestant  \n",
       "0                        82.858889  \n",
       "1                       110.140000  \n",
       "2                        77.938889  \n",
       "3                        13.178889  \n",
       "4                        52.950000  \n",
       "...                            ...  \n",
       "3144                     31.230000  \n",
       "3145                     85.468889  \n",
       "3146                     23.488889  \n",
       "3147                     88.708889  \n",
       "3148                     70.060000  \n",
       "\n",
       "[3149 rows x 4 columns]"
      ],
      "text/html": "<div>\n<style scoped>\n    .dataframe tbody tr th:only-of-type {\n        vertical-align: middle;\n    }\n\n    .dataframe tbody tr th {\n        vertical-align: top;\n    }\n\n    .dataframe thead th {\n        text-align: right;\n    }\n</style>\n<table border=\"1\" class=\"dataframe\">\n  <thead>\n    <tr style=\"text-align: right;\">\n      <th></th>\n      <th>fips</th>\n      <th>religion_total</th>\n      <th>religion_evangelical</th>\n      <th>religion_mainline_protestant</th>\n    </tr>\n  </thead>\n  <tbody>\n    <tr>\n      <th>0</th>\n      <td>1001</td>\n      <td>676.878889</td>\n      <td>503.990000</td>\n      <td>82.858889</td>\n    </tr>\n    <tr>\n      <th>1</th>\n      <td>1003</td>\n      <td>531.740000</td>\n      <td>318.138889</td>\n      <td>110.140000</td>\n    </tr>\n    <tr>\n      <th>2</th>\n      <td>1005</td>\n      <td>549.990000</td>\n      <td>320.250000</td>\n      <td>77.938889</td>\n    </tr>\n    <tr>\n      <th>3</th>\n      <td>1007</td>\n      <td>498.800000</td>\n      <td>443.328889</td>\n      <td>13.178889</td>\n    </tr>\n    <tr>\n      <th>4</th>\n      <td>1009</td>\n      <td>651.620000</td>\n      <td>509.800000</td>\n      <td>52.950000</td>\n    </tr>\n    <tr>\n      <th>...</th>\n      <td>...</td>\n      <td>...</td>\n      <td>...</td>\n      <td>...</td>\n    </tr>\n    <tr>\n      <th>3144</th>\n      <td>56037</td>\n      <td>477.220000</td>\n      <td>99.120000</td>\n      <td>31.230000</td>\n    </tr>\n    <tr>\n      <th>3145</th>\n      <td>56039</td>\n      <td>260.360000</td>\n      <td>42.030000</td>\n      <td>85.468889</td>\n    </tr>\n    <tr>\n      <th>3146</th>\n      <td>56041</td>\n      <td>606.830000</td>\n      <td>68.658889</td>\n      <td>23.488889</td>\n    </tr>\n    <tr>\n      <th>3147</th>\n      <td>56043</td>\n      <td>471.818889</td>\n      <td>155.870000</td>\n      <td>88.708889</td>\n    </tr>\n    <tr>\n      <th>3148</th>\n      <td>56045</td>\n      <td>280.518889</td>\n      <td>81.578889</td>\n      <td>70.060000</td>\n    </tr>\n  </tbody>\n</table>\n<p>3149 rows × 4 columns</p>\n</div>"
     },
     "metadata": {},
     "execution_count": 81
    }
   ],
   "source": [
    "religion = pd.read_csv('datasets/raw/U.S. Religion Census Religious Congregations and Membership Study, 2010 (County File).csv')\n",
    "religion = religion[['FIPS', 'TOTRATE', 'EVANRATE', 'MPRTRATE']].rename(columns = {'FIPS': 'fips', 'TOTRATE': 'religion_total', 'EVANRATE': 'religion_evangelical', 'MPRTRATE': 'religion_mainline_protestant'})\n",
    "religion\n",
    "# TODO: decide to drop black_protestant and/or orthodox columns"
   ]
  },
  {
   "cell_type": "code",
   "execution_count": 82,
   "metadata": {},
   "outputs": [
    {
     "output_type": "execute_result",
     "data": {
      "text/plain": [
       "       fips                         county_name         state  \\\n",
       "456    2158        Kusilvak Census Area, Alaska        Alaska   \n",
       "2724  46102  Oglala Lakota County, South Dakota  South Dakota   \n",
       "\n",
       "                division   region  \n",
       "456              Pacific     West  \n",
       "2724  West North Central  Midwest  "
      ],
      "text/html": "<div>\n<style scoped>\n    .dataframe tbody tr th:only-of-type {\n        vertical-align: middle;\n    }\n\n    .dataframe tbody tr th {\n        vertical-align: top;\n    }\n\n    .dataframe thead th {\n        text-align: right;\n    }\n</style>\n<table border=\"1\" class=\"dataframe\">\n  <thead>\n    <tr style=\"text-align: right;\">\n      <th></th>\n      <th>fips</th>\n      <th>county_name</th>\n      <th>state</th>\n      <th>division</th>\n      <th>region</th>\n    </tr>\n  </thead>\n  <tbody>\n    <tr>\n      <th>456</th>\n      <td>2158</td>\n      <td>Kusilvak Census Area, Alaska</td>\n      <td>Alaska</td>\n      <td>Pacific</td>\n      <td>West</td>\n    </tr>\n    <tr>\n      <th>2724</th>\n      <td>46102</td>\n      <td>Oglala Lakota County, South Dakota</td>\n      <td>South Dakota</td>\n      <td>West North Central</td>\n      <td>Midwest</td>\n    </tr>\n  </tbody>\n</table>\n</div>"
     },
     "metadata": {},
     "execution_count": 82
    }
   ],
   "source": [
    "# Show missing county rows in religion dataset\n",
    "county[~county['fips'].isin(religion['fips'])]"
   ]
  },
  {
   "cell_type": "code",
   "execution_count": 83,
   "metadata": {},
   "outputs": [
    {
     "output_type": "execute_result",
     "data": {
      "text/plain": [
       "Empty DataFrame\n",
       "Columns: [fips, county_name, state, division, region]\n",
       "Index: []"
      ],
      "text/html": "<div>\n<style scoped>\n    .dataframe tbody tr th:only-of-type {\n        vertical-align: middle;\n    }\n\n    .dataframe tbody tr th {\n        vertical-align: top;\n    }\n\n    .dataframe thead th {\n        text-align: right;\n    }\n</style>\n<table border=\"1\" class=\"dataframe\">\n  <thead>\n    <tr style=\"text-align: right;\">\n      <th></th>\n      <th>fips</th>\n      <th>county_name</th>\n      <th>state</th>\n      <th>division</th>\n      <th>region</th>\n    </tr>\n  </thead>\n  <tbody>\n  </tbody>\n</table>\n</div>"
     },
     "metadata": {},
     "execution_count": 83
    }
   ],
   "source": [
    "# Show missing value county rows in religion_total column\n",
    "county[county['fips'].isin(religion[religion['religion_total'].isnull()]['fips'])]"
   ]
  },
  {
   "cell_type": "code",
   "execution_count": 84,
   "metadata": {},
   "outputs": [
    {
     "output_type": "execute_result",
     "data": {
      "text/plain": [
       "       fips                         county_name         state  \\\n",
       "48    15005              Kalawao County, Hawaii        Hawaii   \n",
       "492    2164  Lake and Peninsula Borough, Alaska        Alaska   \n",
       "635    8047             Gilpin County, Colorado      Colorado   \n",
       "643    8023           Costilla County, Colorado      Colorado   \n",
       "889   16033                 Clark County, Idaho         Idaho   \n",
       "1883  30069           Petroleum County, Montana       Montana   \n",
       "1976  31113              Logan County, Nebraska      Nebraska   \n",
       "2043  31005             Arthur County, Nebraska      Nebraska   \n",
       "2231  38087          Slope County, North Dakota  North Dakota   \n",
       "2282  38065         Oliver County, North Dakota  North Dakota   \n",
       "2327  38007       Billings County, North Dakota  North Dakota   \n",
       "2565  46017        Buffalo County, South Dakota  South Dakota   \n",
       "2802  48261                Kenedy County, Texas         Texas   \n",
       "2918  49009                Daggett County, Utah          Utah   \n",
       "2942  50009               Essex County, Vermont       Vermont   \n",
       "2985  49029                 Morgan County, Utah          Utah   \n",
       "3001  49023                   Juab County, Utah          Utah   \n",
       "3010  49031                  Piute County, Utah          Utah   \n",
       "3019  49033                   Rich County, Utah          Utah   \n",
       "3039  50013          Grand Isle County, Vermont       Vermont   \n",
       "\n",
       "                division     region  \n",
       "48               Pacific       West  \n",
       "492              Pacific       West  \n",
       "635             Mountain       West  \n",
       "643             Mountain       West  \n",
       "889             Mountain       West  \n",
       "1883            Mountain       West  \n",
       "1976  West North Central    Midwest  \n",
       "2043  West North Central    Midwest  \n",
       "2231  West North Central    Midwest  \n",
       "2282  West North Central    Midwest  \n",
       "2327  West North Central    Midwest  \n",
       "2565  West North Central    Midwest  \n",
       "2802  West South Central      South  \n",
       "2918            Mountain       West  \n",
       "2942         New England  Northeast  \n",
       "2985            Mountain       West  \n",
       "3001            Mountain       West  \n",
       "3010            Mountain       West  \n",
       "3019            Mountain       West  \n",
       "3039         New England  Northeast  "
      ],
      "text/html": "<div>\n<style scoped>\n    .dataframe tbody tr th:only-of-type {\n        vertical-align: middle;\n    }\n\n    .dataframe tbody tr th {\n        vertical-align: top;\n    }\n\n    .dataframe thead th {\n        text-align: right;\n    }\n</style>\n<table border=\"1\" class=\"dataframe\">\n  <thead>\n    <tr style=\"text-align: right;\">\n      <th></th>\n      <th>fips</th>\n      <th>county_name</th>\n      <th>state</th>\n      <th>division</th>\n      <th>region</th>\n    </tr>\n  </thead>\n  <tbody>\n    <tr>\n      <th>48</th>\n      <td>15005</td>\n      <td>Kalawao County, Hawaii</td>\n      <td>Hawaii</td>\n      <td>Pacific</td>\n      <td>West</td>\n    </tr>\n    <tr>\n      <th>492</th>\n      <td>2164</td>\n      <td>Lake and Peninsula Borough, Alaska</td>\n      <td>Alaska</td>\n      <td>Pacific</td>\n      <td>West</td>\n    </tr>\n    <tr>\n      <th>635</th>\n      <td>8047</td>\n      <td>Gilpin County, Colorado</td>\n      <td>Colorado</td>\n      <td>Mountain</td>\n      <td>West</td>\n    </tr>\n    <tr>\n      <th>643</th>\n      <td>8023</td>\n      <td>Costilla County, Colorado</td>\n      <td>Colorado</td>\n      <td>Mountain</td>\n      <td>West</td>\n    </tr>\n    <tr>\n      <th>889</th>\n      <td>16033</td>\n      <td>Clark County, Idaho</td>\n      <td>Idaho</td>\n      <td>Mountain</td>\n      <td>West</td>\n    </tr>\n    <tr>\n      <th>1883</th>\n      <td>30069</td>\n      <td>Petroleum County, Montana</td>\n      <td>Montana</td>\n      <td>Mountain</td>\n      <td>West</td>\n    </tr>\n    <tr>\n      <th>1976</th>\n      <td>31113</td>\n      <td>Logan County, Nebraska</td>\n      <td>Nebraska</td>\n      <td>West North Central</td>\n      <td>Midwest</td>\n    </tr>\n    <tr>\n      <th>2043</th>\n      <td>31005</td>\n      <td>Arthur County, Nebraska</td>\n      <td>Nebraska</td>\n      <td>West North Central</td>\n      <td>Midwest</td>\n    </tr>\n    <tr>\n      <th>2231</th>\n      <td>38087</td>\n      <td>Slope County, North Dakota</td>\n      <td>North Dakota</td>\n      <td>West North Central</td>\n      <td>Midwest</td>\n    </tr>\n    <tr>\n      <th>2282</th>\n      <td>38065</td>\n      <td>Oliver County, North Dakota</td>\n      <td>North Dakota</td>\n      <td>West North Central</td>\n      <td>Midwest</td>\n    </tr>\n    <tr>\n      <th>2327</th>\n      <td>38007</td>\n      <td>Billings County, North Dakota</td>\n      <td>North Dakota</td>\n      <td>West North Central</td>\n      <td>Midwest</td>\n    </tr>\n    <tr>\n      <th>2565</th>\n      <td>46017</td>\n      <td>Buffalo County, South Dakota</td>\n      <td>South Dakota</td>\n      <td>West North Central</td>\n      <td>Midwest</td>\n    </tr>\n    <tr>\n      <th>2802</th>\n      <td>48261</td>\n      <td>Kenedy County, Texas</td>\n      <td>Texas</td>\n      <td>West South Central</td>\n      <td>South</td>\n    </tr>\n    <tr>\n      <th>2918</th>\n      <td>49009</td>\n      <td>Daggett County, Utah</td>\n      <td>Utah</td>\n      <td>Mountain</td>\n      <td>West</td>\n    </tr>\n    <tr>\n      <th>2942</th>\n      <td>50009</td>\n      <td>Essex County, Vermont</td>\n      <td>Vermont</td>\n      <td>New England</td>\n      <td>Northeast</td>\n    </tr>\n    <tr>\n      <th>2985</th>\n      <td>49029</td>\n      <td>Morgan County, Utah</td>\n      <td>Utah</td>\n      <td>Mountain</td>\n      <td>West</td>\n    </tr>\n    <tr>\n      <th>3001</th>\n      <td>49023</td>\n      <td>Juab County, Utah</td>\n      <td>Utah</td>\n      <td>Mountain</td>\n      <td>West</td>\n    </tr>\n    <tr>\n      <th>3010</th>\n      <td>49031</td>\n      <td>Piute County, Utah</td>\n      <td>Utah</td>\n      <td>Mountain</td>\n      <td>West</td>\n    </tr>\n    <tr>\n      <th>3019</th>\n      <td>49033</td>\n      <td>Rich County, Utah</td>\n      <td>Utah</td>\n      <td>Mountain</td>\n      <td>West</td>\n    </tr>\n    <tr>\n      <th>3039</th>\n      <td>50013</td>\n      <td>Grand Isle County, Vermont</td>\n      <td>Vermont</td>\n      <td>New England</td>\n      <td>Northeast</td>\n    </tr>\n  </tbody>\n</table>\n</div>"
     },
     "metadata": {},
     "execution_count": 84
    }
   ],
   "source": [
    "# Show missing value county rows in religion_evangelical column\n",
    "county[county['fips'].isin(religion[religion['religion_evangelical'].isnull()]['fips'])]"
   ]
  },
  {
   "cell_type": "code",
   "execution_count": 85,
   "metadata": {},
   "outputs": [
    {
     "output_type": "execute_result",
     "data": {
      "text/plain": [
       "       fips                         county_name       state  \\\n",
       "4      2013      Aleutians East Borough, Alaska      Alaska   \n",
       "25    55078         Menominee County, Wisconsin   Wisconsin   \n",
       "208   48301                Loving County, Texas       Texas   \n",
       "221   48311              McMullen County, Texas       Texas   \n",
       "290   51685        Manassas Park city, Virginia    Virginia   \n",
       "449    2060         Bristol Bay Borough, Alaska      Alaska   \n",
       "476    2068              Denali Borough, Alaska      Alaska   \n",
       "492    2164  Lake and Peninsula Borough, Alaska      Alaska   \n",
       "503    2282    Yakutat City and Borough, Alaska      Alaska   \n",
       "553    6003           Alpine County, California  California   \n",
       "912   16025                 Camas County, Idaho       Idaho   \n",
       "1346  21061           Edmonson County, Kentucky    Kentucky   \n",
       "1514  21203         Rockcastle County, Kentucky    Kentucky   \n",
       "1883  30069           Petroleum County, Montana     Montana   \n",
       "1958  32009            Esmeralda County, Nevada      Nevada   \n",
       "2019  31115               Loup County, Nebraska    Nebraska   \n",
       "2061  32011               Eureka County, Nevada      Nevada   \n",
       "2802  48261                Kenedy County, Texas       Texas   \n",
       "2846  48033                Borden County, Texas       Texas   \n",
       "2889  48269                  King County, Texas       Texas   \n",
       "2918  49009                Daggett County, Utah        Utah   \n",
       "2932  49001                 Beaver County, Utah        Utah   \n",
       "2950  49017               Garfield County, Utah        Utah   \n",
       "2956  49051                Wasatch County, Utah        Utah   \n",
       "2988  49015                  Emery County, Utah        Utah   \n",
       "3010  49031                  Piute County, Utah        Utah   \n",
       "3016  49055                  Wayne County, Utah        Utah   \n",
       "3019  49033                   Rich County, Utah        Utah   \n",
       "\n",
       "                division   region  \n",
       "4                Pacific     West  \n",
       "25    East North Central  Midwest  \n",
       "208   West South Central    South  \n",
       "221   West South Central    South  \n",
       "290       South Atlantic    South  \n",
       "449              Pacific     West  \n",
       "476              Pacific     West  \n",
       "492              Pacific     West  \n",
       "503              Pacific     West  \n",
       "553              Pacific     West  \n",
       "912             Mountain     West  \n",
       "1346  East South Central    South  \n",
       "1514  East South Central    South  \n",
       "1883            Mountain     West  \n",
       "1958            Mountain     West  \n",
       "2019  West North Central  Midwest  \n",
       "2061            Mountain     West  \n",
       "2802  West South Central    South  \n",
       "2846  West South Central    South  \n",
       "2889  West South Central    South  \n",
       "2918            Mountain     West  \n",
       "2932            Mountain     West  \n",
       "2950            Mountain     West  \n",
       "2956            Mountain     West  \n",
       "2988            Mountain     West  \n",
       "3010            Mountain     West  \n",
       "3016            Mountain     West  \n",
       "3019            Mountain     West  "
      ],
      "text/html": "<div>\n<style scoped>\n    .dataframe tbody tr th:only-of-type {\n        vertical-align: middle;\n    }\n\n    .dataframe tbody tr th {\n        vertical-align: top;\n    }\n\n    .dataframe thead th {\n        text-align: right;\n    }\n</style>\n<table border=\"1\" class=\"dataframe\">\n  <thead>\n    <tr style=\"text-align: right;\">\n      <th></th>\n      <th>fips</th>\n      <th>county_name</th>\n      <th>state</th>\n      <th>division</th>\n      <th>region</th>\n    </tr>\n  </thead>\n  <tbody>\n    <tr>\n      <th>4</th>\n      <td>2013</td>\n      <td>Aleutians East Borough, Alaska</td>\n      <td>Alaska</td>\n      <td>Pacific</td>\n      <td>West</td>\n    </tr>\n    <tr>\n      <th>25</th>\n      <td>55078</td>\n      <td>Menominee County, Wisconsin</td>\n      <td>Wisconsin</td>\n      <td>East North Central</td>\n      <td>Midwest</td>\n    </tr>\n    <tr>\n      <th>208</th>\n      <td>48301</td>\n      <td>Loving County, Texas</td>\n      <td>Texas</td>\n      <td>West South Central</td>\n      <td>South</td>\n    </tr>\n    <tr>\n      <th>221</th>\n      <td>48311</td>\n      <td>McMullen County, Texas</td>\n      <td>Texas</td>\n      <td>West South Central</td>\n      <td>South</td>\n    </tr>\n    <tr>\n      <th>290</th>\n      <td>51685</td>\n      <td>Manassas Park city, Virginia</td>\n      <td>Virginia</td>\n      <td>South Atlantic</td>\n      <td>South</td>\n    </tr>\n    <tr>\n      <th>449</th>\n      <td>2060</td>\n      <td>Bristol Bay Borough, Alaska</td>\n      <td>Alaska</td>\n      <td>Pacific</td>\n      <td>West</td>\n    </tr>\n    <tr>\n      <th>476</th>\n      <td>2068</td>\n      <td>Denali Borough, Alaska</td>\n      <td>Alaska</td>\n      <td>Pacific</td>\n      <td>West</td>\n    </tr>\n    <tr>\n      <th>492</th>\n      <td>2164</td>\n      <td>Lake and Peninsula Borough, Alaska</td>\n      <td>Alaska</td>\n      <td>Pacific</td>\n      <td>West</td>\n    </tr>\n    <tr>\n      <th>503</th>\n      <td>2282</td>\n      <td>Yakutat City and Borough, Alaska</td>\n      <td>Alaska</td>\n      <td>Pacific</td>\n      <td>West</td>\n    </tr>\n    <tr>\n      <th>553</th>\n      <td>6003</td>\n      <td>Alpine County, California</td>\n      <td>California</td>\n      <td>Pacific</td>\n      <td>West</td>\n    </tr>\n    <tr>\n      <th>912</th>\n      <td>16025</td>\n      <td>Camas County, Idaho</td>\n      <td>Idaho</td>\n      <td>Mountain</td>\n      <td>West</td>\n    </tr>\n    <tr>\n      <th>1346</th>\n      <td>21061</td>\n      <td>Edmonson County, Kentucky</td>\n      <td>Kentucky</td>\n      <td>East South Central</td>\n      <td>South</td>\n    </tr>\n    <tr>\n      <th>1514</th>\n      <td>21203</td>\n      <td>Rockcastle County, Kentucky</td>\n      <td>Kentucky</td>\n      <td>East South Central</td>\n      <td>South</td>\n    </tr>\n    <tr>\n      <th>1883</th>\n      <td>30069</td>\n      <td>Petroleum County, Montana</td>\n      <td>Montana</td>\n      <td>Mountain</td>\n      <td>West</td>\n    </tr>\n    <tr>\n      <th>1958</th>\n      <td>32009</td>\n      <td>Esmeralda County, Nevada</td>\n      <td>Nevada</td>\n      <td>Mountain</td>\n      <td>West</td>\n    </tr>\n    <tr>\n      <th>2019</th>\n      <td>31115</td>\n      <td>Loup County, Nebraska</td>\n      <td>Nebraska</td>\n      <td>West North Central</td>\n      <td>Midwest</td>\n    </tr>\n    <tr>\n      <th>2061</th>\n      <td>32011</td>\n      <td>Eureka County, Nevada</td>\n      <td>Nevada</td>\n      <td>Mountain</td>\n      <td>West</td>\n    </tr>\n    <tr>\n      <th>2802</th>\n      <td>48261</td>\n      <td>Kenedy County, Texas</td>\n      <td>Texas</td>\n      <td>West South Central</td>\n      <td>South</td>\n    </tr>\n    <tr>\n      <th>2846</th>\n      <td>48033</td>\n      <td>Borden County, Texas</td>\n      <td>Texas</td>\n      <td>West South Central</td>\n      <td>South</td>\n    </tr>\n    <tr>\n      <th>2889</th>\n      <td>48269</td>\n      <td>King County, Texas</td>\n      <td>Texas</td>\n      <td>West South Central</td>\n      <td>South</td>\n    </tr>\n    <tr>\n      <th>2918</th>\n      <td>49009</td>\n      <td>Daggett County, Utah</td>\n      <td>Utah</td>\n      <td>Mountain</td>\n      <td>West</td>\n    </tr>\n    <tr>\n      <th>2932</th>\n      <td>49001</td>\n      <td>Beaver County, Utah</td>\n      <td>Utah</td>\n      <td>Mountain</td>\n      <td>West</td>\n    </tr>\n    <tr>\n      <th>2950</th>\n      <td>49017</td>\n      <td>Garfield County, Utah</td>\n      <td>Utah</td>\n      <td>Mountain</td>\n      <td>West</td>\n    </tr>\n    <tr>\n      <th>2956</th>\n      <td>49051</td>\n      <td>Wasatch County, Utah</td>\n      <td>Utah</td>\n      <td>Mountain</td>\n      <td>West</td>\n    </tr>\n    <tr>\n      <th>2988</th>\n      <td>49015</td>\n      <td>Emery County, Utah</td>\n      <td>Utah</td>\n      <td>Mountain</td>\n      <td>West</td>\n    </tr>\n    <tr>\n      <th>3010</th>\n      <td>49031</td>\n      <td>Piute County, Utah</td>\n      <td>Utah</td>\n      <td>Mountain</td>\n      <td>West</td>\n    </tr>\n    <tr>\n      <th>3016</th>\n      <td>49055</td>\n      <td>Wayne County, Utah</td>\n      <td>Utah</td>\n      <td>Mountain</td>\n      <td>West</td>\n    </tr>\n    <tr>\n      <th>3019</th>\n      <td>49033</td>\n      <td>Rich County, Utah</td>\n      <td>Utah</td>\n      <td>Mountain</td>\n      <td>West</td>\n    </tr>\n  </tbody>\n</table>\n</div>"
     },
     "metadata": {},
     "execution_count": 85
    }
   ],
   "source": [
    "# Show missing value county rows in religion_evangelical column\n",
    "county[county['fips'].isin(religion[religion['religion_mainline_protestant'].isnull()]['fips'])]"
   ]
  },
  {
   "source": [
    "## Data Completeness\n",
    "As noted above we are missing a few recurring pattern of certain counties being missing in most of our datasets.\n",
    "* Oglala Lakota County, South Dakota (FIPS 46102)\n",
    "* Kalawao County, Hawaii (FIPS 15005)\n",
    "* Various parts of Alaska, especially in the election dataset\n",
    "\n",
    "Upon further investigation into those areas, we learned that Oglala Lakota County does not have a functioning county seat and remains unorganized, which explains the difficulty government surveyors would have with gathering data there. However, this county is entirely on an Indian reservation, which would give us valuable insight on Native American vaccine hesitancy.\n",
    "\n",
    "Kalawao County because of its small population does not have many of the functions that a normal county would have.\n",
    "\n",
    "While Alaska does administer using county divisions, for elections they use a different geographic boundary of boroughs, which do not conveniently align with counties. This makes a county level political correlation with vaccine hesitancy impossible for us. Similar to the note above, Alaska is home to a lot of Native Americans, 15% of the population, which means our analysis will lose insight into Native American vaccine hesitancy.\n",
    "\n",
    "Because of the issues surrounding population size, county organization and governmental issues, we decide to drop those two data points and focus our analysis on the central parts of the USA, ignoring Alaska."
   ],
   "cell_type": "markdown",
   "metadata": {}
  },
  {
   "cell_type": "code",
   "execution_count": 86,
   "metadata": {},
   "outputs": [
    {
     "output_type": "execute_result",
     "data": {
      "text/plain": [
       "       fips                    county_name      state            division  \\\n",
       "0      1131         Wilcox County, Alabama    Alabama  East South Central   \n",
       "1      1129     Washington County, Alabama    Alabama  East South Central   \n",
       "2      1133        Winston County, Alabama    Alabama  East South Central   \n",
       "3      1127         Walker County, Alabama    Alabama  East South Central   \n",
       "6      1125     Tuscaloosa County, Alabama    Alabama  East South Central   \n",
       "...     ...                            ...        ...                 ...   \n",
       "3137  55079    Milwaukee County, Wisconsin  Wisconsin  East North Central   \n",
       "3138  55121  Trempealeau County, Wisconsin  Wisconsin  East North Central   \n",
       "3139  56001         Albany County, Wyoming    Wyoming            Mountain   \n",
       "3140  55067     Langlade County, Wisconsin  Wisconsin  East North Central   \n",
       "3141  55099        Price County, Wisconsin  Wisconsin  East North Central   \n",
       "\n",
       "       region  \n",
       "0       South  \n",
       "1       South  \n",
       "2       South  \n",
       "3       South  \n",
       "6       South  \n",
       "...       ...  \n",
       "3137  Midwest  \n",
       "3138  Midwest  \n",
       "3139     West  \n",
       "3140  Midwest  \n",
       "3141  Midwest  \n",
       "\n",
       "[3111 rows x 5 columns]"
      ],
      "text/html": "<div>\n<style scoped>\n    .dataframe tbody tr th:only-of-type {\n        vertical-align: middle;\n    }\n\n    .dataframe tbody tr th {\n        vertical-align: top;\n    }\n\n    .dataframe thead th {\n        text-align: right;\n    }\n</style>\n<table border=\"1\" class=\"dataframe\">\n  <thead>\n    <tr style=\"text-align: right;\">\n      <th></th>\n      <th>fips</th>\n      <th>county_name</th>\n      <th>state</th>\n      <th>division</th>\n      <th>region</th>\n    </tr>\n  </thead>\n  <tbody>\n    <tr>\n      <th>0</th>\n      <td>1131</td>\n      <td>Wilcox County, Alabama</td>\n      <td>Alabama</td>\n      <td>East South Central</td>\n      <td>South</td>\n    </tr>\n    <tr>\n      <th>1</th>\n      <td>1129</td>\n      <td>Washington County, Alabama</td>\n      <td>Alabama</td>\n      <td>East South Central</td>\n      <td>South</td>\n    </tr>\n    <tr>\n      <th>2</th>\n      <td>1133</td>\n      <td>Winston County, Alabama</td>\n      <td>Alabama</td>\n      <td>East South Central</td>\n      <td>South</td>\n    </tr>\n    <tr>\n      <th>3</th>\n      <td>1127</td>\n      <td>Walker County, Alabama</td>\n      <td>Alabama</td>\n      <td>East South Central</td>\n      <td>South</td>\n    </tr>\n    <tr>\n      <th>6</th>\n      <td>1125</td>\n      <td>Tuscaloosa County, Alabama</td>\n      <td>Alabama</td>\n      <td>East South Central</td>\n      <td>South</td>\n    </tr>\n    <tr>\n      <th>...</th>\n      <td>...</td>\n      <td>...</td>\n      <td>...</td>\n      <td>...</td>\n      <td>...</td>\n    </tr>\n    <tr>\n      <th>3137</th>\n      <td>55079</td>\n      <td>Milwaukee County, Wisconsin</td>\n      <td>Wisconsin</td>\n      <td>East North Central</td>\n      <td>Midwest</td>\n    </tr>\n    <tr>\n      <th>3138</th>\n      <td>55121</td>\n      <td>Trempealeau County, Wisconsin</td>\n      <td>Wisconsin</td>\n      <td>East North Central</td>\n      <td>Midwest</td>\n    </tr>\n    <tr>\n      <th>3139</th>\n      <td>56001</td>\n      <td>Albany County, Wyoming</td>\n      <td>Wyoming</td>\n      <td>Mountain</td>\n      <td>West</td>\n    </tr>\n    <tr>\n      <th>3140</th>\n      <td>55067</td>\n      <td>Langlade County, Wisconsin</td>\n      <td>Wisconsin</td>\n      <td>East North Central</td>\n      <td>Midwest</td>\n    </tr>\n    <tr>\n      <th>3141</th>\n      <td>55099</td>\n      <td>Price County, Wisconsin</td>\n      <td>Wisconsin</td>\n      <td>East North Central</td>\n      <td>Midwest</td>\n    </tr>\n  </tbody>\n</table>\n<p>3111 rows × 5 columns</p>\n</div>"
     },
     "metadata": {},
     "execution_count": 86
    }
   ],
   "source": [
    "county = county.drop(county[county['fips'] == 46102].index)\n",
    "county = county.drop(county[county['fips'] == 15005].index)\n",
    "county = county.drop(county[county['state'] == 'Alaska'].index)\n",
    "county"
   ]
  },
  {
   "source": [
    "## Aggregation\n",
    "We set the fips as index for all of our dataframes and then concatenate them along it with an inner join."
   ],
   "cell_type": "markdown",
   "metadata": {}
  },
  {
   "cell_type": "code",
   "execution_count": 87,
   "metadata": {},
   "outputs": [
    {
     "output_type": "execute_result",
     "data": {
      "text/plain": [
       "       fips                    county_name      state            division  \\\n",
       "0      1131         Wilcox County, Alabama    Alabama  East South Central   \n",
       "1      1129     Washington County, Alabama    Alabama  East South Central   \n",
       "2      1133        Winston County, Alabama    Alabama  East South Central   \n",
       "3      1127         Walker County, Alabama    Alabama  East South Central   \n",
       "4      1125     Tuscaloosa County, Alabama    Alabama  East South Central   \n",
       "...     ...                            ...        ...                 ...   \n",
       "3106  55079    Milwaukee County, Wisconsin  Wisconsin  East North Central   \n",
       "3107  55121  Trempealeau County, Wisconsin  Wisconsin  East North Central   \n",
       "3108  56001         Albany County, Wyoming    Wyoming            Mountain   \n",
       "3109  55067     Langlade County, Wisconsin  Wisconsin  East North Central   \n",
       "3110  55099        Price County, Wisconsin  Wisconsin  East North Central   \n",
       "\n",
       "       region  vaccine_hesitant  vaccine_hesitant_strong  \\\n",
       "0       South              0.23                     0.11   \n",
       "1       South              0.23                     0.11   \n",
       "2       South              0.22                     0.11   \n",
       "3       South              0.23                     0.11   \n",
       "4       South              0.22                     0.10   \n",
       "...       ...               ...                      ...   \n",
       "3106  Midwest              0.18                     0.11   \n",
       "3107  Midwest              0.18                     0.10   \n",
       "3108     West              0.30                     0.16   \n",
       "3109  Midwest              0.17                     0.10   \n",
       "3110  Midwest              0.17                     0.10   \n",
       "\n",
       "     vaccine_hesitant_category  social_vulnerability_index  \\\n",
       "0                       Medium                        0.93   \n",
       "1                       Medium                        0.73   \n",
       "2                       Medium                        0.70   \n",
       "3                       Medium                        0.75   \n",
       "4                       Medium                        0.63   \n",
       "...                        ...                         ...   \n",
       "3106                    Medium                        0.81   \n",
       "3107                    Medium                        0.28   \n",
       "3108                      High                        0.25   \n",
       "3109                    Medium                        0.35   \n",
       "3110                    Medium                        0.16   \n",
       "\n",
       "      ethnicity_hispanic  ...  election_total_2012  election_dem_2012  \\\n",
       "0                 0.0053  ...                 6547               4867   \n",
       "1                 0.0146  ...                 8761               2971   \n",
       "2                 0.0315  ...                 9712               1286   \n",
       "3                 0.0249  ...                28497               6551   \n",
       "4                 0.0372  ...                78495              32003   \n",
       "...                  ...  ...                  ...                ...   \n",
       "3106              0.1500  ...               490944             328090   \n",
       "3107              0.0840  ...                13456               7601   \n",
       "3108              0.0953  ...                16052               7445   \n",
       "3109              0.0197  ...                10482               4569   \n",
       "3110              0.0177  ...                 7870               3882   \n",
       "\n",
       "      election_gop_2012  election_oth_2012  election_total_2016  \\\n",
       "0                  1676                  4                 6095   \n",
       "1                  5749                 41                 8492   \n",
       "2                  8310                116                10255   \n",
       "3                 21633                313                29243   \n",
       "4                 45703                789                81708   \n",
       "...                 ...                ...                  ...   \n",
       "3106             158430               4424               434970   \n",
       "3107               5703                152                13581   \n",
       "3108               7851                756                16420   \n",
       "3109               5810                103                10093   \n",
       "3110               3879                109                 7560   \n",
       "\n",
       "      election_dem_2016  election_gop_2016  election_oth_2016  \\\n",
       "0                  4329               1737                 29   \n",
       "1                  2366               6031                 95   \n",
       "2                   871               9225                159   \n",
       "3                  4486              24208                549   \n",
       "4                 31746              47701               2261   \n",
       "...                 ...                ...                ...   \n",
       "3106             288986             126091              19893   \n",
       "3107               5645               7370                566   \n",
       "3108               6888               7601               1931   \n",
       "3109               3260               6436                397   \n",
       "3110               2671               4562                327   \n",
       "\n",
       "      election_gop_2020  election_dem_2020  \n",
       "0                  1833               4048  \n",
       "1                  6564               2258  \n",
       "2                 10195                974  \n",
       "3                 26002               4834  \n",
       "4                 51117              37765  \n",
       "...                 ...                ...  \n",
       "3106             134357             317270  \n",
       "3107               8833               6285  \n",
       "3108               8579               9092  \n",
       "3109               7330               3704  \n",
       "3110               5394               3032  \n",
       "\n",
       "[3111 rows x 46 columns]"
      ],
      "text/html": "<div>\n<style scoped>\n    .dataframe tbody tr th:only-of-type {\n        vertical-align: middle;\n    }\n\n    .dataframe tbody tr th {\n        vertical-align: top;\n    }\n\n    .dataframe thead th {\n        text-align: right;\n    }\n</style>\n<table border=\"1\" class=\"dataframe\">\n  <thead>\n    <tr style=\"text-align: right;\">\n      <th></th>\n      <th>fips</th>\n      <th>county_name</th>\n      <th>state</th>\n      <th>division</th>\n      <th>region</th>\n      <th>vaccine_hesitant</th>\n      <th>vaccine_hesitant_strong</th>\n      <th>vaccine_hesitant_category</th>\n      <th>social_vulnerability_index</th>\n      <th>ethnicity_hispanic</th>\n      <th>...</th>\n      <th>election_total_2012</th>\n      <th>election_dem_2012</th>\n      <th>election_gop_2012</th>\n      <th>election_oth_2012</th>\n      <th>election_total_2016</th>\n      <th>election_dem_2016</th>\n      <th>election_gop_2016</th>\n      <th>election_oth_2016</th>\n      <th>election_gop_2020</th>\n      <th>election_dem_2020</th>\n    </tr>\n  </thead>\n  <tbody>\n    <tr>\n      <th>0</th>\n      <td>1131</td>\n      <td>Wilcox County, Alabama</td>\n      <td>Alabama</td>\n      <td>East South Central</td>\n      <td>South</td>\n      <td>0.23</td>\n      <td>0.11</td>\n      <td>Medium</td>\n      <td>0.93</td>\n      <td>0.0053</td>\n      <td>...</td>\n      <td>6547</td>\n      <td>4867</td>\n      <td>1676</td>\n      <td>4</td>\n      <td>6095</td>\n      <td>4329</td>\n      <td>1737</td>\n      <td>29</td>\n      <td>1833</td>\n      <td>4048</td>\n    </tr>\n    <tr>\n      <th>1</th>\n      <td>1129</td>\n      <td>Washington County, Alabama</td>\n      <td>Alabama</td>\n      <td>East South Central</td>\n      <td>South</td>\n      <td>0.23</td>\n      <td>0.11</td>\n      <td>Medium</td>\n      <td>0.73</td>\n      <td>0.0146</td>\n      <td>...</td>\n      <td>8761</td>\n      <td>2971</td>\n      <td>5749</td>\n      <td>41</td>\n      <td>8492</td>\n      <td>2366</td>\n      <td>6031</td>\n      <td>95</td>\n      <td>6564</td>\n      <td>2258</td>\n    </tr>\n    <tr>\n      <th>2</th>\n      <td>1133</td>\n      <td>Winston County, Alabama</td>\n      <td>Alabama</td>\n      <td>East South Central</td>\n      <td>South</td>\n      <td>0.22</td>\n      <td>0.11</td>\n      <td>Medium</td>\n      <td>0.70</td>\n      <td>0.0315</td>\n      <td>...</td>\n      <td>9712</td>\n      <td>1286</td>\n      <td>8310</td>\n      <td>116</td>\n      <td>10255</td>\n      <td>871</td>\n      <td>9225</td>\n      <td>159</td>\n      <td>10195</td>\n      <td>974</td>\n    </tr>\n    <tr>\n      <th>3</th>\n      <td>1127</td>\n      <td>Walker County, Alabama</td>\n      <td>Alabama</td>\n      <td>East South Central</td>\n      <td>South</td>\n      <td>0.23</td>\n      <td>0.11</td>\n      <td>Medium</td>\n      <td>0.75</td>\n      <td>0.0249</td>\n      <td>...</td>\n      <td>28497</td>\n      <td>6551</td>\n      <td>21633</td>\n      <td>313</td>\n      <td>29243</td>\n      <td>4486</td>\n      <td>24208</td>\n      <td>549</td>\n      <td>26002</td>\n      <td>4834</td>\n    </tr>\n    <tr>\n      <th>4</th>\n      <td>1125</td>\n      <td>Tuscaloosa County, Alabama</td>\n      <td>Alabama</td>\n      <td>East South Central</td>\n      <td>South</td>\n      <td>0.22</td>\n      <td>0.10</td>\n      <td>Medium</td>\n      <td>0.63</td>\n      <td>0.0372</td>\n      <td>...</td>\n      <td>78495</td>\n      <td>32003</td>\n      <td>45703</td>\n      <td>789</td>\n      <td>81708</td>\n      <td>31746</td>\n      <td>47701</td>\n      <td>2261</td>\n      <td>51117</td>\n      <td>37765</td>\n    </tr>\n    <tr>\n      <th>...</th>\n      <td>...</td>\n      <td>...</td>\n      <td>...</td>\n      <td>...</td>\n      <td>...</td>\n      <td>...</td>\n      <td>...</td>\n      <td>...</td>\n      <td>...</td>\n      <td>...</td>\n      <td>...</td>\n      <td>...</td>\n      <td>...</td>\n      <td>...</td>\n      <td>...</td>\n      <td>...</td>\n      <td>...</td>\n      <td>...</td>\n      <td>...</td>\n      <td>...</td>\n      <td>...</td>\n    </tr>\n    <tr>\n      <th>3106</th>\n      <td>55079</td>\n      <td>Milwaukee County, Wisconsin</td>\n      <td>Wisconsin</td>\n      <td>East North Central</td>\n      <td>Midwest</td>\n      <td>0.18</td>\n      <td>0.11</td>\n      <td>Medium</td>\n      <td>0.81</td>\n      <td>0.1500</td>\n      <td>...</td>\n      <td>490944</td>\n      <td>328090</td>\n      <td>158430</td>\n      <td>4424</td>\n      <td>434970</td>\n      <td>288986</td>\n      <td>126091</td>\n      <td>19893</td>\n      <td>134357</td>\n      <td>317270</td>\n    </tr>\n    <tr>\n      <th>3107</th>\n      <td>55121</td>\n      <td>Trempealeau County, Wisconsin</td>\n      <td>Wisconsin</td>\n      <td>East North Central</td>\n      <td>Midwest</td>\n      <td>0.18</td>\n      <td>0.10</td>\n      <td>Medium</td>\n      <td>0.28</td>\n      <td>0.0840</td>\n      <td>...</td>\n      <td>13456</td>\n      <td>7601</td>\n      <td>5703</td>\n      <td>152</td>\n      <td>13581</td>\n      <td>5645</td>\n      <td>7370</td>\n      <td>566</td>\n      <td>8833</td>\n      <td>6285</td>\n    </tr>\n    <tr>\n      <th>3108</th>\n      <td>56001</td>\n      <td>Albany County, Wyoming</td>\n      <td>Wyoming</td>\n      <td>Mountain</td>\n      <td>West</td>\n      <td>0.30</td>\n      <td>0.16</td>\n      <td>High</td>\n      <td>0.25</td>\n      <td>0.0953</td>\n      <td>...</td>\n      <td>16052</td>\n      <td>7445</td>\n      <td>7851</td>\n      <td>756</td>\n      <td>16420</td>\n      <td>6888</td>\n      <td>7601</td>\n      <td>1931</td>\n      <td>8579</td>\n      <td>9092</td>\n    </tr>\n    <tr>\n      <th>3109</th>\n      <td>55067</td>\n      <td>Langlade County, Wisconsin</td>\n      <td>Wisconsin</td>\n      <td>East North Central</td>\n      <td>Midwest</td>\n      <td>0.17</td>\n      <td>0.10</td>\n      <td>Medium</td>\n      <td>0.35</td>\n      <td>0.0197</td>\n      <td>...</td>\n      <td>10482</td>\n      <td>4569</td>\n      <td>5810</td>\n      <td>103</td>\n      <td>10093</td>\n      <td>3260</td>\n      <td>6436</td>\n      <td>397</td>\n      <td>7330</td>\n      <td>3704</td>\n    </tr>\n    <tr>\n      <th>3110</th>\n      <td>55099</td>\n      <td>Price County, Wisconsin</td>\n      <td>Wisconsin</td>\n      <td>East North Central</td>\n      <td>Midwest</td>\n      <td>0.17</td>\n      <td>0.10</td>\n      <td>Medium</td>\n      <td>0.16</td>\n      <td>0.0177</td>\n      <td>...</td>\n      <td>7870</td>\n      <td>3882</td>\n      <td>3879</td>\n      <td>109</td>\n      <td>7560</td>\n      <td>2671</td>\n      <td>4562</td>\n      <td>327</td>\n      <td>5394</td>\n      <td>3032</td>\n    </tr>\n  </tbody>\n</table>\n<p>3111 rows × 46 columns</p>\n</div>"
     },
     "metadata": {},
     "execution_count": 87
    }
   ],
   "source": [
    "dfs = [df.set_index('fips') for df in [county, vaccine_hesitancy, social_vulnerability_index, ethnicity, natality, unemployment, geography, income, poverty, education, religion, elections]]\n",
    "df = pd.concat(dfs, axis=1, join='inner').reset_index()\n",
    "df"
   ]
  },
  {
   "source": [
    "## Output"
   ],
   "cell_type": "markdown",
   "metadata": {}
  },
  {
   "cell_type": "code",
   "execution_count": 88,
   "metadata": {},
   "outputs": [],
   "source": [
    "df.to_csv('datasets/clean/interim_clean_dataset_2021-07-19.csv', index=False)"
   ]
  }
 ]
}