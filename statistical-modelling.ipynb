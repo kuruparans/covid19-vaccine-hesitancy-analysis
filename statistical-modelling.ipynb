{
 "metadata": {
  "language_info": {
   "codemirror_mode": {
    "name": "ipython",
    "version": 3
   },
   "file_extension": ".py",
   "mimetype": "text/x-python",
   "name": "python",
   "nbconvert_exporter": "python",
   "pygments_lexer": "ipython3",
   "version": "3.9.6"
  },
  "orig_nbformat": 4,
  "kernelspec": {
   "name": "python3",
   "display_name": "Python 3.9.6 64-bit"
  },
  "interpreter": {
   "hash": "9b846ca81b47b1292d024d4f17ec94299106cf2be89def8bf31186937746892c"
  }
 },
 "nbformat": 4,
 "nbformat_minor": 2,
 "cells": [
  {
   "cell_type": "code",
   "execution_count": 6,
   "metadata": {},
   "outputs": [],
   "source": [
    "import pandas as pd\n",
    "from scipy import stats\n",
    "import statsmodels.formula.api as sm"
   ]
  },
  {
   "cell_type": "code",
   "execution_count": 16,
   "metadata": {},
   "outputs": [
    {
     "output_type": "execute_result",
     "data": {
      "text/plain": [
       "Index(['fips', 'county_name', 'state', 'division', 'region',\n",
       "       'vaccine_hesitant', 'vaccine_hesitant_strong',\n",
       "       'vaccine_hesitant_category', 'social_vulnerability_index',\n",
       "       'ethnicity_hispanic', 'ethnicity_native', 'ethnicity_asian',\n",
       "       'ethnicity_black', 'ethnicity_hawaiian', 'ethnicity_white',\n",
       "       'population', 'birth_rate', 'unemployment', 'rural_urban_code',\n",
       "       'urban_influence_code', 'median_income_percent_state', 'median_income',\n",
       "       'poverty', 'education_high_school_less', 'education_high_school_only',\n",
       "       'education_degree_some', 'education_bachelors_degree', 'religion_total',\n",
       "       'religion_evangelical', 'religion_mainline_protestant',\n",
       "       'election_democrat_wins', 'election_republican_wins',\n",
       "       'election_total_2008', 'election_dem_2008', 'election_gop_2008',\n",
       "       'election_oth_2008', 'election_total_2012', 'election_dem_2012',\n",
       "       'election_gop_2012', 'election_oth_2012', 'election_total_2016',\n",
       "       'election_dem_2016', 'election_gop_2016', 'election_oth_2016',\n",
       "       'election_gop_2020', 'election_dem_2020'],\n",
       "      dtype='object')"
      ]
     },
     "metadata": {},
     "execution_count": 16
    }
   ],
   "source": [
    "df = pd.read_csv('datasets/clean/interim_clean_dataset_2021-06-10.csv')\n",
    "df.columns"
   ]
  },
  {
   "cell_type": "code",
   "execution_count": 23,
   "metadata": {},
   "outputs": [
    {
     "output_type": "stream",
     "name": "stdout",
     "text": [
      "                            OLS Regression Results                            \n==============================================================================\nDep. Variable:       vaccine_hesitant   R-squared:                       0.417\nModel:                            OLS   Adj. R-squared:                  0.413\nMethod:                 Least Squares   F-statistic:                     128.4\nDate:                Mon, 19 Jul 2021   Prob (F-statistic):               0.00\nTime:                        17:04:02   Log-Likelihood:                 5932.8\nNo. Observations:                3075   AIC:                        -1.183e+04\nDf Residuals:                    3057   BIC:                        -1.172e+04\nDf Model:                          17                                         \nCovariance Type:            nonrobust                                         \n================================================================================================\n                                   coef    std err          t      P>|t|      [0.025      0.975]\n------------------------------------------------------------------------------------------------\nIntercept                        0.0127      0.005      2.427      0.015       0.002       0.023\nethnicity_white                  0.0868      0.047      1.832      0.067      -0.006       0.180\nethnicity_hispanic               0.0306      0.047      0.650      0.516      -0.062       0.123\nethnicity_black                  0.1770      0.047      3.757      0.000       0.085       0.269\nethnicity_asian                 -0.0592      0.064     -0.921      0.357      -0.185       0.067\nethnicity_native                 0.1969      0.051      3.829      0.000       0.096       0.298\nethnicity_hawaiian               0.1464      0.224      0.654      0.513      -0.292       0.585\npopulation                    8.815e-10   2.29e-09      0.384      0.701   -3.62e-09    5.38e-09\nbirth_rate                       0.3182      0.031     10.131      0.000       0.257       0.380\nunemployment                    -0.1970      0.056     -3.524      0.000      -0.307      -0.087\nrural_urban_code                 0.0013      0.000      4.312      0.000       0.001       0.002\nmedian_income                -6.685e-07   7.76e-08     -8.610      0.000   -8.21e-07   -5.16e-07\neducation_high_school_only      -0.0063      0.017     -0.373      0.709      -0.039       0.027\neducation_bachelors_degree      -0.0390      0.016     -2.467      0.014      -0.070      -0.008\nreligion_total               -2.178e-06    5.4e-06     -0.403      0.687   -1.28e-05    8.41e-06\nreligion_evangelical          8.605e-06   5.91e-06      1.455      0.146   -2.99e-06    2.02e-05\nreligion_mainline_protestant -2.592e-05   8.77e-06     -2.956      0.003   -4.31e-05   -8.73e-06\nelection_democrat_wins           0.0216      0.010      2.059      0.040       0.001       0.042\nelection_republican_wins         0.0292      0.010      2.793      0.005       0.009       0.050\n==============================================================================\nOmnibus:                      229.894   Durbin-Watson:                   1.433\nProb(Omnibus):                  0.000   Jarque-Bera (JB):              380.408\nSkew:                           0.564   Prob(JB):                     2.49e-83\nKurtosis:                       4.303   Cond. No.                     1.02e+20\n==============================================================================\n\nNotes:\n[1] Standard Errors assume that the covariance matrix of the errors is correctly specified.\n[2] The smallest eigenvalue is 3.69e-26. This might indicate that there are\nstrong multicollinearity problems or that the design matrix is singular.\n"
     ]
    }
   ],
   "source": [
    "formula_hesitant = 'vaccine_hesitant ~ ethnicity_white + ethnicity_hispanic + ethnicity_black + ethnicity_asian + ethnicity_native + ethnicity_hawaiian + population + birth_rate + unemployment + rural_urban_code + median_income + education_high_school_only + education_bachelors_degree + religion_total + religion_evangelical + religion_mainline_protestant + election_democrat_wins + election_republican_wins'\n",
    "model_hesitant = sm.ols(formula=formula_hesitant, data=df)\n",
    "fitted_hesitant = model_hesitant.fit()\n",
    "print(fitted_hesitant.summary())"
   ]
  },
  {
   "cell_type": "code",
   "execution_count": 27,
   "metadata": {},
   "outputs": [
    {
     "output_type": "stream",
     "name": "stdout",
     "text": [
      "                               OLS Regression Results                              \n===================================================================================\nDep. Variable:     vaccine_hesitant_strong   R-squared:                       0.278\nModel:                                 OLS   Adj. R-squared:                  0.274\nMethod:                      Least Squares   F-statistic:                     69.34\nDate:                     Mon, 19 Jul 2021   Prob (F-statistic):          1.25e-201\nTime:                             17:06:11   Log-Likelihood:                 7000.9\nNo. Observations:                     3075   AIC:                        -1.397e+04\nDf Residuals:                         3057   BIC:                        -1.386e+04\nDf Model:                               17                                         \nCovariance Type:                 nonrobust                                         \n================================================================================================\n                                   coef    std err          t      P>|t|      [0.025      0.975]\n------------------------------------------------------------------------------------------------\nIntercept                        0.0065      0.004      1.755      0.079      -0.001       0.014\nethnicity_white                  0.0262      0.033      0.783      0.434      -0.039       0.092\nethnicity_hispanic               0.0018      0.033      0.055      0.956      -0.063       0.067\nethnicity_black                  0.0539      0.033      1.619      0.105      -0.011       0.119\nethnicity_asian                 -0.0619      0.045     -1.364      0.173      -0.151       0.027\nethnicity_native                 0.0898      0.036      2.472      0.013       0.019       0.161\nethnicity_hawaiian               0.0445      0.158      0.281      0.778      -0.266       0.355\npopulation                    1.772e-09   1.62e-09      1.093      0.275   -1.41e-09    4.95e-09\nbirth_rate                       0.1539      0.022      6.937      0.000       0.110       0.197\nunemployment                    -0.1195      0.040     -3.025      0.003      -0.197      -0.042\nrural_urban_code                 0.0006      0.000      2.704      0.007       0.000       0.001\nmedian_income                -3.051e-07   5.49e-08     -5.562      0.000   -4.13e-07   -1.98e-07\neducation_high_school_only       0.0271      0.012      2.275      0.023       0.004       0.050\neducation_bachelors_degree      -0.0328      0.011     -2.937      0.003      -0.055      -0.011\nreligion_total                4.068e-06   3.82e-06      1.066      0.287   -3.41e-06    1.16e-05\nreligion_evangelical          8.026e-06   4.18e-06      1.921      0.055   -1.66e-07    1.62e-05\nreligion_mainline_protestant  6.134e-06    6.2e-06      0.990      0.322   -6.02e-06    1.83e-05\nelection_democrat_wins           0.0117      0.007      1.584      0.113      -0.003       0.026\nelection_republican_wins         0.0142      0.007      1.924      0.054      -0.000       0.029\n==============================================================================\nOmnibus:                      678.927   Durbin-Watson:                   1.307\nProb(Omnibus):                  0.000   Jarque-Bera (JB):             1710.226\nSkew:                           1.195   Prob(JB):                         0.00\nKurtosis:                       5.764   Cond. No.                     1.02e+20\n==============================================================================\n\nNotes:\n[1] Standard Errors assume that the covariance matrix of the errors is correctly specified.\n[2] The smallest eigenvalue is 3.69e-26. This might indicate that there are\nstrong multicollinearity problems or that the design matrix is singular.\n"
     ]
    }
   ],
   "source": [
    "formula_hesitant_strong = 'vaccine_hesitant_strong ~ ethnicity_white + ethnicity_hispanic + ethnicity_black + ethnicity_asian + ethnicity_native + ethnicity_hawaiian + population + birth_rate + unemployment + rural_urban_code + median_income + education_high_school_only + education_bachelors_degree + religion_total + religion_evangelical + religion_mainline_protestant + election_democrat_wins + election_republican_wins'\n",
    "model_hesitant_strong = sm.ols(formula=formula_hesitant_strong, data=df)\n",
    "fitted_hesitant_strong = model_hesitant_strong.fit()\n",
    "print(fitted_hesitant_strong.summary())"
   ]
  }
 ]
}