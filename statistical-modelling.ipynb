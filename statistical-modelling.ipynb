{
 "metadata": {
  "language_info": {
   "codemirror_mode": {
    "name": "ipython",
    "version": 3
   },
   "file_extension": ".py",
   "mimetype": "text/x-python",
   "name": "python",
   "nbconvert_exporter": "python",
   "pygments_lexer": "ipython3",
   "version": "3.9.6"
  },
  "orig_nbformat": 4,
  "kernelspec": {
   "name": "python3",
   "display_name": "Python 3.9.6 64-bit"
  },
  "interpreter": {
   "hash": "9b846ca81b47b1292d024d4f17ec94299106cf2be89def8bf31186937746892c"
  }
 },
 "nbformat": 4,
 "nbformat_minor": 2,
 "cells": [
  {
   "cell_type": "code",
   "execution_count": 6,
   "metadata": {},
   "outputs": [],
   "source": [
    "import pandas as pd\n",
    "from scipy import stats\n",
    "import statsmodels.formula.api as sm"
   ]
  },
  {
   "cell_type": "code",
   "execution_count": 16,
   "metadata": {},
   "outputs": [
    {
     "output_type": "execute_result",
     "data": {
      "text/plain": [
       "Index(['fips', 'county_name', 'state', 'division', 'region',\n",
       "       'vaccine_hesitant', 'vaccine_hesitant_strong',\n",
       "       'vaccine_hesitant_category', 'social_vulnerability_index',\n",
       "       'ethnicity_hispanic', 'ethnicity_native', 'ethnicity_asian',\n",
       "       'ethnicity_black', 'ethnicity_hawaiian', 'ethnicity_white',\n",
       "       'population', 'birth_rate', 'unemployment', 'rural_urban_code',\n",
       "       'urban_influence_code', 'median_income_percent_state', 'median_income',\n",
       "       'poverty', 'education_high_school_less', 'education_high_school_only',\n",
       "       'education_degree_some', 'education_bachelors_degree', 'religion_total',\n",
       "       'religion_evangelical', 'religion_mainline_protestant',\n",
       "       'election_democrat_wins', 'election_republican_wins',\n",
       "       'election_total_2008', 'election_dem_2008', 'election_gop_2008',\n",
       "       'election_oth_2008', 'election_total_2012', 'election_dem_2012',\n",
       "       'election_gop_2012', 'election_oth_2012', 'election_total_2016',\n",
       "       'election_dem_2016', 'election_gop_2016', 'election_oth_2016',\n",
       "       'election_gop_2020', 'election_dem_2020'],\n",
       "      dtype='object')"
      ]
     },
     "metadata": {},
     "execution_count": 16
    }
   ],
   "source": [
    "df = pd.read_csv('datasets/clean/interim_clean_dataset_2021-06-10.csv')\n",
    "df.columns"
   ]
  },
  {
   "cell_type": "code",
   "execution_count": 19,
   "metadata": {},
   "outputs": [
    {
     "output_type": "stream",
     "name": "stdout",
     "text": [
      "                            OLS Regression Results                            \n==============================================================================\nDep. Variable:       vaccine_hesitant   R-squared:                       0.420\nModel:                            OLS   Adj. R-squared:                  0.416\nMethod:                 Least Squares   F-statistic:                     116.4\nDate:                Sun, 18 Jul 2021   Prob (F-statistic):               0.00\nTime:                        22:44:07   Log-Likelihood:                 5942.0\nNo. Observations:                3075   AIC:                        -1.184e+04\nDf Residuals:                    3055   BIC:                        -1.172e+04\nDf Model:                          19                                         \nCovariance Type:            nonrobust                                         \n================================================================================================\n                                   coef    std err          t      P>|t|      [0.025      0.975]\n------------------------------------------------------------------------------------------------\nIntercept                       -0.0286      0.122     -0.234      0.815      -0.269       0.211\nethnicity_white                  0.0597      0.048      1.253      0.210      -0.034       0.153\nethnicity_hispanic              -0.0100      0.048     -0.208      0.835      -0.104       0.084\nethnicity_black                  0.1435      0.048      3.013      0.003       0.050       0.237\nethnicity_asian                 -0.1201      0.066     -1.830      0.067      -0.249       0.009\nethnicity_native                 0.1695      0.052      3.279      0.001       0.068       0.271\nethnicity_hawaiian               0.1925      0.223      0.861      0.389      -0.246       0.631\npopulation                    1.046e-09   2.29e-09      0.457      0.648   -3.44e-09    5.53e-09\nbirth_rate                       0.3058      0.031      9.719      0.000       0.244       0.367\nunemployment                    -0.2237      0.056     -3.987      0.000      -0.334      -0.114\nrural_urban_code                 0.0012      0.000      3.976      0.000       0.001       0.002\nmedian_income                -6.347e-07   7.79e-08     -8.148      0.000   -7.87e-07   -4.82e-07\neducation_high_school_less       0.4614      1.101      0.419      0.675      -1.698       2.621\neducation_high_school_only       0.3839      1.102      0.348      0.728      -1.776       2.544\neducation_degree_some            0.3795      1.102      0.344      0.731      -1.781       2.540\neducation_bachelors_degree       0.3708      1.102      0.337      0.736      -1.789       2.531\nreligion_total                1.907e-06   5.47e-06      0.349      0.727   -8.82e-06    1.26e-05\nreligion_evangelical          1.261e-06   6.15e-06      0.205      0.837   -1.08e-05    1.33e-05\nreligion_mainline_protestant -2.214e-05    8.8e-06     -2.516      0.012   -3.94e-05   -4.89e-06\nelection_democrat_wins          -0.0611      0.245     -0.249      0.803      -0.541       0.419\nelection_republican_wins        -0.0533      0.245     -0.218      0.828      -0.533       0.427\n==============================================================================\nOmnibus:                      237.457   Durbin-Watson:                   1.443\nProb(Omnibus):                  0.000   Jarque-Bera (JB):              406.087\nSkew:                           0.568   Prob(JB):                     6.60e-89\nKurtosis:                       4.371   Cond. No.                     7.38e+20\n==============================================================================\n\nNotes:\n[1] Standard Errors assume that the covariance matrix of the errors is correctly specified.\n[2] The smallest eigenvalue is 7.06e-28. This might indicate that there are\nstrong multicollinearity problems or that the design matrix is singular.\n"
     ]
    }
   ],
   "source": [
    "formula_hesitant = 'vaccine_hesitant ~ ethnicity_white + ethnicity_hispanic + ethnicity_black + ethnicity_asian + ethnicity_native + ethnicity_hawaiian + population + birth_rate + unemployment + rural_urban_code + median_income + education_high_school_less + education_high_school_only + education_degree_some + education_bachelors_degree + religion_total + religion_evangelical + religion_mainline_protestant + election_democrat_wins + election_republican_wins'\n",
    "model_hesitant = sm.ols(formula=formula_hesitant, data=df)\n",
    "fitted_hesitant = model_hesitant.fit()\n",
    "print(fitted_hesitant.summary())"
   ]
  }
 ]
}